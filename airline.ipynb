{
 "cells": [
  {
   "cell_type": "code",
   "execution_count": 28,
   "metadata": {},
   "outputs": [
    {
     "data": {
      "text/plain": [
       "['.git',\n",
       " '.ipynb_checkpoints',\n",
       " 'airline-passengers.csv',\n",
       " 'airline.ipynb',\n",
       " 'Untitled.ipynb',\n",
       " 'Untitled1.ipynb']"
      ]
     },
     "execution_count": 28,
     "metadata": {},
     "output_type": "execute_result"
    }
   ],
   "source": [
    "import os\n",
    "os.listdir()"
   ]
  },
  {
   "cell_type": "code",
   "execution_count": 29,
   "metadata": {},
   "outputs": [],
   "source": [
    "import pandas as pd\n",
    "import numpy as np\n",
    "from keras.models import Sequential\n",
    "from keras.layers import LSTM\n",
    "from keras.layers import Dense\n",
    "import matplotlib.pyplot as plt\n",
    "from sklearn.model_selection import train_test_split\n",
    "from sklearn.preprocessing import MinMaxScaler\n"
   ]
  },
  {
   "cell_type": "code",
   "execution_count": 30,
   "metadata": {},
   "outputs": [
    {
     "data": {
      "text/html": [
       "<div>\n",
       "<style scoped>\n",
       "    .dataframe tbody tr th:only-of-type {\n",
       "        vertical-align: middle;\n",
       "    }\n",
       "\n",
       "    .dataframe tbody tr th {\n",
       "        vertical-align: top;\n",
       "    }\n",
       "\n",
       "    .dataframe thead th {\n",
       "        text-align: right;\n",
       "    }\n",
       "</style>\n",
       "<table border=\"1\" class=\"dataframe\">\n",
       "  <thead>\n",
       "    <tr style=\"text-align: right;\">\n",
       "      <th></th>\n",
       "      <th>Passengers</th>\n",
       "    </tr>\n",
       "  </thead>\n",
       "  <tbody>\n",
       "    <tr>\n",
       "      <td>0</td>\n",
       "      <td>112</td>\n",
       "    </tr>\n",
       "    <tr>\n",
       "      <td>1</td>\n",
       "      <td>118</td>\n",
       "    </tr>\n",
       "    <tr>\n",
       "      <td>2</td>\n",
       "      <td>132</td>\n",
       "    </tr>\n",
       "    <tr>\n",
       "      <td>3</td>\n",
       "      <td>129</td>\n",
       "    </tr>\n",
       "    <tr>\n",
       "      <td>4</td>\n",
       "      <td>121</td>\n",
       "    </tr>\n",
       "  </tbody>\n",
       "</table>\n",
       "</div>"
      ],
      "text/plain": [
       "   Passengers\n",
       "0         112\n",
       "1         118\n",
       "2         132\n",
       "3         129\n",
       "4         121"
      ]
     },
     "execution_count": 30,
     "metadata": {},
     "output_type": "execute_result"
    }
   ],
   "source": [
    "data=pd.read_csv('airline-passengers.csv',usecols=[1])\n",
    "data.head()"
   ]
  },
  {
   "cell_type": "code",
   "execution_count": 31,
   "metadata": {},
   "outputs": [],
   "source": [
    "# timegap=[(data[\"Month\"][i]-data[\"Month\"][0]).days for i in range(1,data.shape[0])]"
   ]
  },
  {
   "cell_type": "code",
   "execution_count": 32,
   "metadata": {},
   "outputs": [
    {
     "ename": "NameError",
     "evalue": "name 'timegap' is not defined",
     "output_type": "error",
     "traceback": [
      "\u001b[1;31m---------------------------------------------------------------------------\u001b[0m",
      "\u001b[1;31mNameError\u001b[0m                                 Traceback (most recent call last)",
      "\u001b[1;32m<ipython-input-32-54ccf76dcde7>\u001b[0m in \u001b[0;36m<module>\u001b[1;34m\u001b[0m\n\u001b[1;32m----> 1\u001b[1;33m \u001b[0mtimegap\u001b[0m\u001b[1;33m.\u001b[0m\u001b[0minsert\u001b[0m\u001b[1;33m(\u001b[0m\u001b[1;36m0\u001b[0m\u001b[1;33m,\u001b[0m\u001b[1;36m0\u001b[0m\u001b[1;33m)\u001b[0m\u001b[1;33m\u001b[0m\u001b[1;33m\u001b[0m\u001b[0m\n\u001b[0m",
      "\u001b[1;31mNameError\u001b[0m: name 'timegap' is not defined"
     ]
    }
   ],
   "source": [
    "timegap.insert(0,0)"
   ]
  },
  {
   "cell_type": "code",
   "execution_count": 33,
   "metadata": {},
   "outputs": [],
   "source": [
    "# new_data={\"timegap\":timegap,\n",
    "#          \"Passengers\":data[\"Passengers\"],\n",
    "#         }\n",
    "# new_data=pd.DataFrame(new_data)"
   ]
  },
  {
   "cell_type": "code",
   "execution_count": 34,
   "metadata": {},
   "outputs": [
    {
     "data": {
      "text/plain": [
       "(144, 1)"
      ]
     },
     "execution_count": 34,
     "metadata": {},
     "output_type": "execute_result"
    }
   ],
   "source": [
    "data.shape"
   ]
  },
  {
   "cell_type": "code",
   "execution_count": 35,
   "metadata": {},
   "outputs": [],
   "source": [
    "scaler=MinMaxScaler(feature_range=(0,1))\n",
    "data=scaler.fit_transform(data.values)"
   ]
  },
  {
   "cell_type": "code",
   "execution_count": 36,
   "metadata": {},
   "outputs": [],
   "source": [
    "X=[]\n",
    "Y=[]\n",
    "for i in range(data.shape[0]-1):\n",
    "    X.append(data[i:i+1])\n",
    "    Y.append(data[i+1])\n"
   ]
  },
  {
   "cell_type": "code",
   "execution_count": 37,
   "metadata": {},
   "outputs": [],
   "source": [
    "# scaler=MinMaxScaler(feature_range=(0,1))\n",
    "# X=scaler.fit_transform([X])\n",
    "# Y=scaler.fit_transform([Y])"
   ]
  },
  {
   "cell_type": "code",
   "execution_count": 38,
   "metadata": {},
   "outputs": [
    {
     "data": {
      "text/plain": [
       "((143, 1, 1), (143, 1))"
      ]
     },
     "execution_count": 38,
     "metadata": {},
     "output_type": "execute_result"
    }
   ],
   "source": [
    "X=np.array(X)\n",
    "Y=np.array(Y)\n",
    "\n",
    "X.shape,Y.shape"
   ]
  },
  {
   "cell_type": "code",
   "execution_count": 39,
   "metadata": {},
   "outputs": [],
   "source": [
    "X=np.reshape(X,(143,1,1))\n",
    "Y=np.reshape(Y,(143,1))"
   ]
  },
  {
   "cell_type": "code",
   "execution_count": 71,
   "metadata": {},
   "outputs": [],
   "source": [
    "x_train,x_test,y_train,y_test=train_test_split(X,Y,test_size=0.3)"
   ]
  },
  {
   "cell_type": "code",
   "execution_count": 72,
   "metadata": {},
   "outputs": [
    {
     "data": {
      "text/plain": [
       "(43, 1, 1)"
      ]
     },
     "execution_count": 72,
     "metadata": {},
     "output_type": "execute_result"
    }
   ],
   "source": [
    "x_test.shape"
   ]
  },
  {
   "cell_type": "code",
   "execution_count": 73,
   "metadata": {},
   "outputs": [],
   "source": [
    "# plt.plot(timegap,data)"
   ]
  },
  {
   "cell_type": "code",
   "execution_count": 88,
   "metadata": {},
   "outputs": [],
   "source": [
    "model=Sequential()\n",
    "model.add(LSTM((4),batch_input_shape=(None,None,1)))\n",
    "model.add(Dense(1))\n",
    "\n"
   ]
  },
  {
   "cell_type": "code",
   "execution_count": 89,
   "metadata": {},
   "outputs": [],
   "source": [
    "model.compile(loss='mean_squared_error',optimizer='adam',metrics=['accuracy'])"
   ]
  },
  {
   "cell_type": "code",
   "execution_count": 90,
   "metadata": {},
   "outputs": [
    {
     "name": "stdout",
     "output_type": "stream",
     "text": [
      "Model: \"sequential_12\"\n",
      "_________________________________________________________________\n",
      "Layer (type)                 Output Shape              Param #   \n",
      "=================================================================\n",
      "lstm_14 (LSTM)               (None, 4)                 96        \n",
      "_________________________________________________________________\n",
      "dense_11 (Dense)             (None, 1)                 5         \n",
      "=================================================================\n",
      "Total params: 101\n",
      "Trainable params: 101\n",
      "Non-trainable params: 0\n",
      "_________________________________________________________________\n"
     ]
    }
   ],
   "source": [
    "model.summary(\n",
    ")"
   ]
  },
  {
   "cell_type": "code",
   "execution_count": 91,
   "metadata": {},
   "outputs": [
    {
     "name": "stdout",
     "output_type": "stream",
     "text": [
      "Epoch 1/100\n",
      "100/100 [==============================] - 0s 3ms/step - loss: 0.1660 - accuracy: 0.0000e+00\n",
      "Epoch 2/100\n",
      "100/100 [==============================] - 0s 83us/step - loss: 0.1603 - accuracy: 0.0000e+00\n",
      "Epoch 3/100\n",
      "100/100 [==============================] - 0s 83us/step - loss: 0.1546 - accuracy: 0.0000e+00\n",
      "Epoch 4/100\n",
      "100/100 [==============================] - 0s 80us/step - loss: 0.1491 - accuracy: 0.0000e+00\n",
      "Epoch 5/100\n",
      "100/100 [==============================] - 0s 69us/step - loss: 0.1438 - accuracy: 0.0000e+00\n",
      "Epoch 6/100\n",
      "100/100 [==============================] - 0s 79us/step - loss: 0.1386 - accuracy: 0.0000e+00\n",
      "Epoch 7/100\n",
      "100/100 [==============================] - 0s 70us/step - loss: 0.1334 - accuracy: 0.0000e+00\n",
      "Epoch 8/100\n",
      "100/100 [==============================] - 0s 80us/step - loss: 0.1287 - accuracy: 0.0000e+00\n",
      "Epoch 9/100\n",
      "100/100 [==============================] - 0s 69us/step - loss: 0.1241 - accuracy: 0.0000e+00\n",
      "Epoch 10/100\n",
      "100/100 [==============================] - 0s 80us/step - loss: 0.1195 - accuracy: 0.0000e+00\n",
      "Epoch 11/100\n",
      "100/100 [==============================] - 0s 70us/step - loss: 0.1153 - accuracy: 0.0000e+00\n",
      "Epoch 12/100\n",
      "100/100 [==============================] - 0s 80us/step - loss: 0.1111 - accuracy: 0.0000e+00\n",
      "Epoch 13/100\n",
      "100/100 [==============================] - 0s 80us/step - loss: 0.1070 - accuracy: 0.0000e+00\n",
      "Epoch 14/100\n",
      "100/100 [==============================] - 0s 80us/step - loss: 0.1031 - accuracy: 0.0000e+00\n",
      "Epoch 15/100\n",
      "100/100 [==============================] - 0s 79us/step - loss: 0.0992 - accuracy: 0.0000e+00\n",
      "Epoch 16/100\n",
      "100/100 [==============================] - 0s 80us/step - loss: 0.0953 - accuracy: 0.0000e+00\n",
      "Epoch 17/100\n",
      "100/100 [==============================] - 0s 79us/step - loss: 0.0919 - accuracy: 0.0000e+00\n",
      "Epoch 18/100\n",
      "100/100 [==============================] - 0s 69us/step - loss: 0.0886 - accuracy: 0.0000e+00\n",
      "Epoch 19/100\n",
      "100/100 [==============================] - 0s 80us/step - loss: 0.0852 - accuracy: 0.0000e+00\n",
      "Epoch 20/100\n",
      "100/100 [==============================] - 0s 69us/step - loss: 0.0819 - accuracy: 0.0000e+00\n",
      "Epoch 21/100\n",
      "100/100 [==============================] - 0s 80us/step - loss: 0.0789 - accuracy: 0.0000e+00\n",
      "Epoch 22/100\n",
      "100/100 [==============================] - 0s 70us/step - loss: 0.0759 - accuracy: 0.0000e+00\n",
      "Epoch 23/100\n",
      "100/100 [==============================] - 0s 70us/step - loss: 0.0730 - accuracy: 0.0000e+00\n",
      "Epoch 24/100\n",
      "100/100 [==============================] - 0s 90us/step - loss: 0.0703 - accuracy: 0.0000e+00\n",
      "Epoch 25/100\n",
      "100/100 [==============================] - 0s 69us/step - loss: 0.0678 - accuracy: 0.0000e+00\n",
      "Epoch 26/100\n",
      "100/100 [==============================] - 0s 70us/step - loss: 0.0653 - accuracy: 0.0000e+00\n",
      "Epoch 27/100\n",
      "100/100 [==============================] - 0s 70us/step - loss: 0.0631 - accuracy: 0.0000e+00\n",
      "Epoch 28/100\n",
      "100/100 [==============================] - 0s 70us/step - loss: 0.0610 - accuracy: 0.0000e+00\n",
      "Epoch 29/100\n",
      "100/100 [==============================] - 0s 79us/step - loss: 0.0590 - accuracy: 0.0000e+00\n",
      "Epoch 30/100\n",
      "100/100 [==============================] - 0s 80us/step - loss: 0.0571 - accuracy: 0.0000e+00\n",
      "Epoch 31/100\n",
      "100/100 [==============================] - 0s 79us/step - loss: 0.0555 - accuracy: 0.0000e+00\n",
      "Epoch 32/100\n",
      "100/100 [==============================] - 0s 70us/step - loss: 0.0537 - accuracy: 0.0000e+00\n",
      "Epoch 33/100\n",
      "100/100 [==============================] - 0s 80us/step - loss: 0.0519 - accuracy: 0.0000e+00\n",
      "Epoch 34/100\n",
      "100/100 [==============================] - 0s 80us/step - loss: 0.0504 - accuracy: 0.0000e+00\n",
      "Epoch 35/100\n",
      "100/100 [==============================] - 0s 80us/step - loss: 0.0488 - accuracy: 0.0000e+00\n",
      "Epoch 36/100\n",
      "100/100 [==============================] - 0s 79us/step - loss: 0.0476 - accuracy: 0.0000e+00\n",
      "Epoch 37/100\n",
      "100/100 [==============================] - 0s 80us/step - loss: 0.0462 - accuracy: 0.0000e+00\n",
      "Epoch 38/100\n",
      "100/100 [==============================] - 0s 90us/step - loss: 0.0448 - accuracy: 0.0000e+00\n",
      "Epoch 39/100\n",
      "100/100 [==============================] - 0s 69us/step - loss: 0.0437 - accuracy: 0.0000e+00\n",
      "Epoch 40/100\n",
      "100/100 [==============================] - 0s 80us/step - loss: 0.0424 - accuracy: 0.0000e+00\n",
      "Epoch 41/100\n",
      "100/100 [==============================] - 0s 80us/step - loss: 0.0412 - accuracy: 0.0000e+00\n",
      "Epoch 42/100\n",
      "100/100 [==============================] - 0s 89us/step - loss: 0.0401 - accuracy: 0.0000e+00\n",
      "Epoch 43/100\n",
      "100/100 [==============================] - 0s 80us/step - loss: 0.0392 - accuracy: 0.0000e+00\n",
      "Epoch 44/100\n",
      "100/100 [==============================] - 0s 80us/step - loss: 0.0384 - accuracy: 0.0000e+00\n",
      "Epoch 45/100\n",
      "100/100 [==============================] - 0s 80us/step - loss: 0.0374 - accuracy: 0.0000e+00\n",
      "Epoch 46/100\n",
      "100/100 [==============================] - 0s 70us/step - loss: 0.0366 - accuracy: 0.0000e+00\n",
      "Epoch 47/100\n",
      "100/100 [==============================] - 0s 79us/step - loss: 0.0358 - accuracy: 0.0000e+00\n",
      "Epoch 48/100\n",
      "100/100 [==============================] - 0s 69us/step - loss: 0.0350 - accuracy: 0.0000e+00\n",
      "Epoch 49/100\n",
      "100/100 [==============================] - 0s 80us/step - loss: 0.0344 - accuracy: 0.0000e+00\n",
      "Epoch 50/100\n",
      "100/100 [==============================] - 0s 90us/step - loss: 0.0338 - accuracy: 0.0000e+00\n",
      "Epoch 51/100\n",
      "100/100 [==============================] - 0s 80us/step - loss: 0.0330 - accuracy: 0.0000e+00\n",
      "Epoch 52/100\n",
      "100/100 [==============================] - 0s 90us/step - loss: 0.0326 - accuracy: 0.0000e+00\n",
      "Epoch 53/100\n",
      "100/100 [==============================] - 0s 80us/step - loss: 0.0321 - accuracy: 0.0000e+00\n",
      "Epoch 54/100\n",
      "100/100 [==============================] - 0s 80us/step - loss: 0.0316 - accuracy: 0.0000e+00\n",
      "Epoch 55/100\n",
      "100/100 [==============================] - 0s 90us/step - loss: 0.0312 - accuracy: 0.0000e+00\n",
      "Epoch 56/100\n",
      "100/100 [==============================] - 0s 70us/step - loss: 0.0307 - accuracy: 0.0000e+00\n",
      "Epoch 57/100\n",
      "100/100 [==============================] - 0s 80us/step - loss: 0.0304 - accuracy: 0.0000e+00\n",
      "Epoch 58/100\n",
      "100/100 [==============================] - 0s 90us/step - loss: 0.0300 - accuracy: 0.0000e+00\n",
      "Epoch 59/100\n",
      "100/100 [==============================] - 0s 90us/step - loss: 0.0297 - accuracy: 0.0000e+00\n",
      "Epoch 60/100\n",
      "100/100 [==============================] - 0s 80us/step - loss: 0.0293 - accuracy: 0.0000e+00\n",
      "Epoch 61/100\n",
      "100/100 [==============================] - 0s 80us/step - loss: 0.0289 - accuracy: 0.0000e+00\n",
      "Epoch 62/100\n",
      "100/100 [==============================] - 0s 80us/step - loss: 0.0285 - accuracy: 0.0000e+00\n",
      "Epoch 63/100\n",
      "100/100 [==============================] - 0s 80us/step - loss: 0.0283 - accuracy: 0.0000e+00\n",
      "Epoch 64/100\n",
      "100/100 [==============================] - 0s 80us/step - loss: 0.0280 - accuracy: 0.0000e+00\n",
      "Epoch 65/100\n",
      "100/100 [==============================] - 0s 90us/step - loss: 0.0277 - accuracy: 0.0000e+00\n",
      "Epoch 66/100\n",
      "100/100 [==============================] - 0s 80us/step - loss: 0.0275 - accuracy: 0.0000e+00\n",
      "Epoch 67/100\n",
      "100/100 [==============================] - 0s 90us/step - loss: 0.0272 - accuracy: 0.0000e+00\n",
      "Epoch 68/100\n",
      "100/100 [==============================] - 0s 80us/step - loss: 0.0270 - accuracy: 0.0000e+00\n",
      "Epoch 69/100\n",
      "100/100 [==============================] - 0s 70us/step - loss: 0.0268 - accuracy: 0.0000e+00\n",
      "Epoch 70/100\n",
      "100/100 [==============================] - 0s 70us/step - loss: 0.0266 - accuracy: 0.0000e+00\n",
      "Epoch 71/100\n",
      "100/100 [==============================] - 0s 80us/step - loss: 0.0264 - accuracy: 0.0000e+00\n",
      "Epoch 72/100\n",
      "100/100 [==============================] - 0s 80us/step - loss: 0.0262 - accuracy: 0.0000e+00\n",
      "Epoch 73/100\n",
      "100/100 [==============================] - ETA: 0s - loss: 0.0202 - accuracy: 0.0000e+ - 0s 80us/step - loss: 0.0260 - accuracy: 0.0000e+00\n",
      "Epoch 74/100\n",
      "100/100 [==============================] - 0s 80us/step - loss: 0.0259 - accuracy: 0.0000e+00\n",
      "Epoch 75/100\n",
      "100/100 [==============================] - 0s 80us/step - loss: 0.0257 - accuracy: 0.0000e+00\n",
      "Epoch 76/100\n",
      "100/100 [==============================] - 0s 70us/step - loss: 0.0255 - accuracy: 0.0000e+00\n",
      "Epoch 77/100\n"
     ]
    },
    {
     "name": "stdout",
     "output_type": "stream",
     "text": [
      "100/100 [==============================] - 0s 92us/step - loss: 0.0253 - accuracy: 0.0100\n",
      "Epoch 78/100\n",
      "100/100 [==============================] - 0s 80us/step - loss: 0.0251 - accuracy: 0.0100\n",
      "Epoch 79/100\n",
      "100/100 [==============================] - 0s 80us/step - loss: 0.0250 - accuracy: 0.0100\n",
      "Epoch 80/100\n",
      "100/100 [==============================] - 0s 80us/step - loss: 0.0248 - accuracy: 0.0100\n",
      "Epoch 81/100\n",
      "100/100 [==============================] - 0s 80us/step - loss: 0.0246 - accuracy: 0.0100\n",
      "Epoch 82/100\n",
      "100/100 [==============================] - 0s 70us/step - loss: 0.0244 - accuracy: 0.0100\n",
      "Epoch 83/100\n",
      "100/100 [==============================] - 0s 80us/step - loss: 0.0243 - accuracy: 0.0100\n",
      "Epoch 84/100\n",
      "100/100 [==============================] - 0s 70us/step - loss: 0.0241 - accuracy: 0.0100\n",
      "Epoch 85/100\n",
      "100/100 [==============================] - 0s 80us/step - loss: 0.0239 - accuracy: 0.0100\n",
      "Epoch 86/100\n",
      "100/100 [==============================] - 0s 79us/step - loss: 0.0237 - accuracy: 0.0100\n",
      "Epoch 87/100\n",
      "100/100 [==============================] - 0s 80us/step - loss: 0.0235 - accuracy: 0.0100\n",
      "Epoch 88/100\n",
      "100/100 [==============================] - 0s 90us/step - loss: 0.0234 - accuracy: 0.0100\n",
      "Epoch 89/100\n",
      "100/100 [==============================] - 0s 69us/step - loss: 0.0232 - accuracy: 0.0100\n",
      "Epoch 90/100\n",
      "100/100 [==============================] - 0s 90us/step - loss: 0.0231 - accuracy: 0.0100\n",
      "Epoch 91/100\n",
      "100/100 [==============================] - 0s 80us/step - loss: 0.0229 - accuracy: 0.0100\n",
      "Epoch 92/100\n",
      "100/100 [==============================] - 0s 80us/step - loss: 0.0227 - accuracy: 0.0100\n",
      "Epoch 93/100\n",
      "100/100 [==============================] - 0s 79us/step - loss: 0.0226 - accuracy: 0.0100\n",
      "Epoch 94/100\n",
      "100/100 [==============================] - 0s 80us/step - loss: 0.0224 - accuracy: 0.0100\n",
      "Epoch 95/100\n",
      "100/100 [==============================] - 0s 79us/step - loss: 0.0223 - accuracy: 0.0100\n",
      "Epoch 96/100\n",
      "100/100 [==============================] - 0s 70us/step - loss: 0.0221 - accuracy: 0.0100\n",
      "Epoch 97/100\n",
      "100/100 [==============================] - 0s 70us/step - loss: 0.0219 - accuracy: 0.0100\n",
      "Epoch 98/100\n",
      "100/100 [==============================] - 0s 79us/step - loss: 0.0217 - accuracy: 0.0100\n",
      "Epoch 99/100\n",
      "100/100 [==============================] - 0s 80us/step - loss: 0.0216 - accuracy: 0.0100\n",
      "Epoch 100/100\n",
      "100/100 [==============================] - 0s 80us/step - loss: 0.0214 - accuracy: 0.0100\n"
     ]
    }
   ],
   "source": [
    "history=model.fit(x_train,y_train,epochs=100)"
   ]
  },
  {
   "cell_type": "code",
   "execution_count": 92,
   "metadata": {},
   "outputs": [
    {
     "data": {
      "text/plain": [
       "[<matplotlib.lines.Line2D at 0x26686c64320>]"
      ]
     },
     "execution_count": 92,
     "metadata": {},
     "output_type": "execute_result"
    },
    {
     "data": {
      "image/png": "[encoded data removed]",
      "text/plain": [
       "<Figure size 432x288 with 1 Axes>"
      ]
     },
     "metadata": {
      "needs_background": "light"
     },
     "output_type": "display_data"
    }
   ],
   "source": [
    "#plot for data with 1 LSTM\n",
    "plt.plot(history.history['loss'])"
   ]
  },
  {
   "cell_type": "code",
   "execution_count": 62,
   "metadata": {},
   "outputs": [],
   "source": [
    "result=model.predict(x_test)"
   ]
  },
  {
   "cell_type": "code",
   "execution_count": 63,
   "metadata": {},
   "outputs": [
    {
     "data": {
      "text/plain": [
       "<matplotlib.collections.PathCollection at 0x266ff8e02b0>"
      ]
     },
     "execution_count": 63,
     "metadata": {},
     "output_type": "execute_result"
    },
    {
     "data": {
      "image/png": "[encoded data removed]",
      "text/plain": [
       "<Figure size 432x288 with 1 Axes>"
      ]
     },
     "metadata": {
      "needs_background": "light"
     },
     "output_type": "display_data"
    }
   ],
   "source": [
    "plt.scatter(range(58),y_test,c='green')\n",
    "plt.scatter(range(58),result,c='red')"
   ]
  },
  {
   "cell_type": "code",
   "execution_count": null,
   "metadata": {},
   "outputs": [],
   "source": []
  }
 ],
 "metadata": {
  "kernelspec": {
   "display_name": "Python 3",
   "language": "python",
   "name": "python3"
  },
  "language_info": {
   "codemirror_mode": {
    "name": "ipython",
    "version": 3
   },
   "file_extension": ".py",
   "mimetype": "text/x-python",
   "name": "python",
   "nbconvert_exporter": "python",
   "pygments_lexer": "ipython3",
   "version": "3.6.7"
  }
 },
 "nbformat": 4,
 "nbformat_minor": 2
}
