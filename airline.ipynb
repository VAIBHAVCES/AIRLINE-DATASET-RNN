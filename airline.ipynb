{
 "cells": [
  {
   "cell_type": "code",
   "execution_count": 107,
   "metadata": {},
   "outputs": [
    {
     "data": {
      "text/plain": [
       "['.git',\n",
       " '.ipynb_checkpoints',\n",
       " 'airline-passengers.csv',\n",
       " 'airline.ipynb',\n",
       " 'Untitled.ipynb',\n",
       " 'Untitled1.ipynb']"
      ]
     },
     "execution_count": 107,
     "metadata": {},
     "output_type": "execute_result"
    }
   ],
   "source": [
    "import os\n",
    "os.listdir()"
   ]
  },
  {
   "cell_type": "code",
   "execution_count": 108,
   "metadata": {},
   "outputs": [],
   "source": [
    "import pandas as pd\n",
    "import numpy as np\n",
    "from keras.models import Sequential\n",
    "from keras.layers import LSTM\n",
    "from keras.layers import Dense\n",
    "import matplotlib.pyplot as plt\n",
    "from sklearn.model_selection import train_test_split\n",
    "from sklearn.preprocessing import MinMaxScaler\n"
   ]
  },
  {
   "cell_type": "code",
   "execution_count": 109,
   "metadata": {},
   "outputs": [
    {
     "data": {
      "text/html": [
       "<div>\n",
       "<style scoped>\n",
       "    .dataframe tbody tr th:only-of-type {\n",
       "        vertical-align: middle;\n",
       "    }\n",
       "\n",
       "    .dataframe tbody tr th {\n",
       "        vertical-align: top;\n",
       "    }\n",
       "\n",
       "    .dataframe thead th {\n",
       "        text-align: right;\n",
       "    }\n",
       "</style>\n",
       "<table border=\"1\" class=\"dataframe\">\n",
       "  <thead>\n",
       "    <tr style=\"text-align: right;\">\n",
       "      <th></th>\n",
       "      <th>Passengers</th>\n",
       "    </tr>\n",
       "  </thead>\n",
       "  <tbody>\n",
       "    <tr>\n",
       "      <td>0</td>\n",
       "      <td>112</td>\n",
       "    </tr>\n",
       "    <tr>\n",
       "      <td>1</td>\n",
       "      <td>118</td>\n",
       "    </tr>\n",
       "    <tr>\n",
       "      <td>2</td>\n",
       "      <td>132</td>\n",
       "    </tr>\n",
       "    <tr>\n",
       "      <td>3</td>\n",
       "      <td>129</td>\n",
       "    </tr>\n",
       "    <tr>\n",
       "      <td>4</td>\n",
       "      <td>121</td>\n",
       "    </tr>\n",
       "  </tbody>\n",
       "</table>\n",
       "</div>"
      ],
      "text/plain": [
       "   Passengers\n",
       "0         112\n",
       "1         118\n",
       "2         132\n",
       "3         129\n",
       "4         121"
      ]
     },
     "execution_count": 109,
     "metadata": {},
     "output_type": "execute_result"
    }
   ],
   "source": [
    "data=pd.read_csv('airline-passengers.csv',usecols=[1])\n",
    "data.head()"
   ]
  },
  {
   "cell_type": "code",
   "execution_count": 110,
   "metadata": {},
   "outputs": [],
   "source": [
    "# timegap=[(data[\"Month\"][i]-data[\"Month\"][0]).days for i in range(1,data.shape[0])]"
   ]
  },
  {
   "cell_type": "code",
   "execution_count": 111,
   "metadata": {},
   "outputs": [
    {
     "ename": "NameError",
     "evalue": "name 'timegap' is not defined",
     "output_type": "error",
     "traceback": [
      "\u001b[1;31m---------------------------------------------------------------------------\u001b[0m",
      "\u001b[1;31mNameError\u001b[0m                                 Traceback (most recent call last)",
      "\u001b[1;32m<ipython-input-111-54ccf76dcde7>\u001b[0m in \u001b[0;36m<module>\u001b[1;34m\u001b[0m\n\u001b[1;32m----> 1\u001b[1;33m \u001b[0mtimegap\u001b[0m\u001b[1;33m.\u001b[0m\u001b[0minsert\u001b[0m\u001b[1;33m(\u001b[0m\u001b[1;36m0\u001b[0m\u001b[1;33m,\u001b[0m\u001b[1;36m0\u001b[0m\u001b[1;33m)\u001b[0m\u001b[1;33m\u001b[0m\u001b[1;33m\u001b[0m\u001b[0m\n\u001b[0m",
      "\u001b[1;31mNameError\u001b[0m: name 'timegap' is not defined"
     ]
    }
   ],
   "source": [
    "timegap.insert(0,0)"
   ]
  },
  {
   "cell_type": "code",
   "execution_count": 112,
   "metadata": {},
   "outputs": [],
   "source": [
    "# new_data={\"timegap\":timegap,\n",
    "#          \"Passengers\":data[\"Passengers\"],\n",
    "#         }\n",
    "# new_data=pd.DataFrame(new_data)"
   ]
  },
  {
   "cell_type": "code",
   "execution_count": 113,
   "metadata": {},
   "outputs": [
    {
     "data": {
      "text/plain": [
       "(144, 1)"
      ]
     },
     "execution_count": 113,
     "metadata": {},
     "output_type": "execute_result"
    }
   ],
   "source": [
    "data.shape"
   ]
  },
  {
   "cell_type": "code",
   "execution_count": 114,
   "metadata": {},
   "outputs": [],
   "source": [
    "scaler=MinMaxScaler(feature_range=(0,1))\n",
    "data=scaler.fit_transform(data.values)"
   ]
  },
  {
   "cell_type": "code",
   "execution_count": 115,
   "metadata": {},
   "outputs": [],
   "source": [
    "X=[]\n",
    "Y=[]\n",
    "for i in range(data.shape[0]-1):\n",
    "    X.append(data[i:i+1])\n",
    "    Y.append(data[i+1])\n"
   ]
  },
  {
   "cell_type": "code",
   "execution_count": 116,
   "metadata": {},
   "outputs": [],
   "source": [
    "# scaler=MinMaxScaler(feature_range=(0,1))\n",
    "# X=scaler.fit_transform([X])\n",
    "# Y=scaler.fit_transform([Y])"
   ]
  },
  {
   "cell_type": "code",
   "execution_count": 117,
   "metadata": {},
   "outputs": [
    {
     "data": {
      "text/plain": [
       "((143, 1, 1), (143, 1))"
      ]
     },
     "execution_count": 117,
     "metadata": {},
     "output_type": "execute_result"
    }
   ],
   "source": [
    "X=np.array(X)\n",
    "Y=np.array(Y)\n",
    "\n",
    "X.shape,Y.shape"
   ]
  },
  {
   "cell_type": "code",
   "execution_count": 118,
   "metadata": {},
   "outputs": [],
   "source": [
    "X=np.reshape(X,(143,1,1))\n",
    "Y=np.reshape(Y,(143,1))"
   ]
  },
  {
   "cell_type": "code",
   "execution_count": 119,
   "metadata": {},
   "outputs": [],
   "source": [
    "x_train,x_test,y_train,y_test=train_test_split(X,Y,test_size=0.3)"
   ]
  },
  {
   "cell_type": "code",
   "execution_count": 120,
   "metadata": {},
   "outputs": [
    {
     "data": {
      "text/plain": [
       "(43, 1, 1)"
      ]
     },
     "execution_count": 120,
     "metadata": {},
     "output_type": "execute_result"
    }
   ],
   "source": [
    "x_test.shape"
   ]
  },
  {
   "cell_type": "code",
   "execution_count": 121,
   "metadata": {},
   "outputs": [],
   "source": [
    "# plt.plot(timegap,data)"
   ]
  },
  {
   "cell_type": "code",
   "execution_count": 143,
   "metadata": {},
   "outputs": [],
   "source": [
    "model=Sequential()\n",
    "model.add(LSTM((4),batch_input_shape=(None,None,1)))\n",
    "model.add(Dense(1))\n",
    "\n",
    "\n",
    "\n",
    "\n"
   ]
  },
  {
   "cell_type": "code",
   "execution_count": 144,
   "metadata": {},
   "outputs": [],
   "source": [
    "model.compile(loss='mean_squared_error',optimizer='adam',metrics=['accuracy'])"
   ]
  },
  {
   "cell_type": "code",
   "execution_count": 145,
   "metadata": {},
   "outputs": [
    {
     "name": "stdout",
     "output_type": "stream",
     "text": [
      "Model: \"sequential_24\"\n",
      "_________________________________________________________________\n",
      "Layer (type)                 Output Shape              Param #   \n",
      "=================================================================\n",
      "lstm_33 (LSTM)               (None, 4)                 96        \n",
      "_________________________________________________________________\n",
      "dense_22 (Dense)             (None, 1)                 5         \n",
      "=================================================================\n",
      "Total params: 101\n",
      "Trainable params: 101\n",
      "Non-trainable params: 0\n",
      "_________________________________________________________________\n"
     ]
    }
   ],
   "source": [
    "model.summary(\n",
    ")"
   ]
  },
  {
   "cell_type": "code",
   "execution_count": 141,
   "metadata": {},
   "outputs": [
    {
     "name": "stdout",
     "output_type": "stream",
     "text": [
      "Train on 100 samples, validate on 43 samples\n",
      "Epoch 1/100\n",
      "100/100 [==============================] - 1s 8ms/step - loss: 0.0819 - accuracy: 0.0100 - val_loss: 0.0429 - val_accuracy: 0.0000e+00\n",
      "Epoch 2/100\n",
      "100/100 [==============================] - 0s 2ms/step - loss: 0.0347 - accuracy: 0.0100 - val_loss: 0.0254 - val_accuracy: 0.0000e+00\n",
      "Epoch 3/100\n",
      "100/100 [==============================] - 0s 2ms/step - loss: 0.0254 - accuracy: 0.0100 - val_loss: 0.0204 - val_accuracy: 0.0000e+00\n",
      "Epoch 4/100\n",
      "100/100 [==============================] - 0s 2ms/step - loss: 0.0215 - accuracy: 0.0200 - val_loss: 0.0170 - val_accuracy: 0.0000e+00\n",
      "Epoch 5/100\n",
      "100/100 [==============================] - 0s 2ms/step - loss: 0.0178 - accuracy: 0.0200 - val_loss: 0.0140 - val_accuracy: 0.0000e+00\n",
      "Epoch 6/100\n",
      "100/100 [==============================] - 0s 2ms/step - loss: 0.0141 - accuracy: 0.0200 - val_loss: 0.0109 - val_accuracy: 0.0000e+00\n",
      "Epoch 7/100\n",
      "100/100 [==============================] - 0s 2ms/step - loss: 0.0112 - accuracy: 0.0200 - val_loss: 0.0083 - val_accuracy: 0.0000e+00\n",
      "Epoch 8/100\n",
      "100/100 [==============================] - 0s 2ms/step - loss: 0.0085 - accuracy: 0.0200 - val_loss: 0.0065 - val_accuracy: 0.0000e+00\n",
      "Epoch 9/100\n",
      "100/100 [==============================] - 0s 2ms/step - loss: 0.0070 - accuracy: 0.0200 - val_loss: 0.0052 - val_accuracy: 0.0000e+00\n",
      "Epoch 10/100\n",
      "100/100 [==============================] - 0s 2ms/step - loss: 0.0059 - accuracy: 0.0200 - val_loss: 0.0045 - val_accuracy: 0.0000e+00\n",
      "Epoch 11/100\n",
      "100/100 [==============================] - 0s 2ms/step - loss: 0.0052 - accuracy: 0.0200 - val_loss: 0.0039 - val_accuracy: 0.0000e+00\n",
      "Epoch 12/100\n",
      "100/100 [==============================] - 0s 2ms/step - loss: 0.0051 - accuracy: 0.0200 - val_loss: 0.0039 - val_accuracy: 0.0000e+00\n",
      "Epoch 13/100\n",
      "100/100 [==============================] - 0s 2ms/step - loss: 0.0050 - accuracy: 0.0200 - val_loss: 0.0036 - val_accuracy: 0.0000e+00\n",
      "Epoch 14/100\n",
      "100/100 [==============================] - 0s 2ms/step - loss: 0.0049 - accuracy: 0.0200 - val_loss: 0.0035 - val_accuracy: 0.0000e+00\n",
      "Epoch 15/100\n",
      "100/100 [==============================] - 0s 2ms/step - loss: 0.0048 - accuracy: 0.0200 - val_loss: 0.0037 - val_accuracy: 0.0000e+00\n",
      "Epoch 16/100\n",
      "100/100 [==============================] - 0s 2ms/step - loss: 0.0049 - accuracy: 0.0200 - val_loss: 0.0034 - val_accuracy: 0.0000e+00\n",
      "Epoch 17/100\n",
      "100/100 [==============================] - 0s 2ms/step - loss: 0.0049 - accuracy: 0.0200 - val_loss: 0.0035 - val_accuracy: 0.0000e+00\n",
      "Epoch 18/100\n",
      "100/100 [==============================] - 0s 2ms/step - loss: 0.0050 - accuracy: 0.0200 - val_loss: 0.0035 - val_accuracy: 0.0000e+00\n",
      "Epoch 19/100\n",
      "100/100 [==============================] - 0s 2ms/step - loss: 0.0048 - accuracy: 0.0200 - val_loss: 0.0033 - val_accuracy: 0.0000e+00\n",
      "Epoch 20/100\n",
      "100/100 [==============================] - ETA: 0s - loss: 0.0045 - accuracy: 0.0106 - 0s 2ms/step - loss: 0.0048 - accuracy: 0.0200 - val_loss: 0.0035 - val_accuracy: 0.0000e+00\n",
      "Epoch 21/100\n",
      "100/100 [==============================] - 0s 2ms/step - loss: 0.0047 - accuracy: 0.0200 - val_loss: 0.0045 - val_accuracy: 0.0000e+00\n",
      "Epoch 22/100\n",
      "100/100 [==============================] - 0s 2ms/step - loss: 0.0051 - accuracy: 0.0200 - val_loss: 0.0035 - val_accuracy: 0.0000e+00\n",
      "Epoch 23/100\n",
      "100/100 [==============================] - 0s 2ms/step - loss: 0.0048 - accuracy: 0.0200 - val_loss: 0.0050 - val_accuracy: 0.0000e+00\n",
      "Epoch 24/100\n",
      "100/100 [==============================] - 0s 2ms/step - loss: 0.0050 - accuracy: 0.0200 - val_loss: 0.0036 - val_accuracy: 0.0000e+00\n",
      "Epoch 25/100\n",
      "100/100 [==============================] - 0s 2ms/step - loss: 0.0048 - accuracy: 0.0200 - val_loss: 0.0033 - val_accuracy: 0.0000e+00\n",
      "Epoch 26/100\n",
      "100/100 [==============================] - 0s 2ms/step - loss: 0.0048 - accuracy: 0.0200 - val_loss: 0.0038 - val_accuracy: 0.0000e+00\n",
      "Epoch 27/100\n",
      "100/100 [==============================] - 0s 2ms/step - loss: 0.0047 - accuracy: 0.0200 - val_loss: 0.0033 - val_accuracy: 0.0000e+00\n",
      "Epoch 28/100\n",
      "100/100 [==============================] - 0s 2ms/step - loss: 0.0048 - accuracy: 0.0200 - val_loss: 0.0032 - val_accuracy: 0.0000e+00\n",
      "Epoch 29/100\n",
      "100/100 [==============================] - 0s 2ms/step - loss: 0.0048 - accuracy: 0.0200 - val_loss: 0.0032 - val_accuracy: 0.0000e+00\n",
      "Epoch 30/100\n",
      "100/100 [==============================] - 0s 2ms/step - loss: 0.0047 - accuracy: 0.0200 - val_loss: 0.0038 - val_accuracy: 0.0000e+00\n",
      "Epoch 31/100\n",
      "100/100 [==============================] - 0s 2ms/step - loss: 0.0048 - accuracy: 0.0200 - val_loss: 0.0034 - val_accuracy: 0.0000e+00\n",
      "Epoch 32/100\n",
      "100/100 [==============================] - 0s 2ms/step - loss: 0.0048 - accuracy: 0.0200 - val_loss: 0.0033 - val_accuracy: 0.0000e+00\n",
      "Epoch 33/100\n",
      "100/100 [==============================] - 0s 2ms/step - loss: 0.0046 - accuracy: 0.0200 - val_loss: 0.0032 - val_accuracy: 0.0000e+00\n",
      "Epoch 34/100\n",
      "100/100 [==============================] - 0s 2ms/step - loss: 0.0049 - accuracy: 0.0200 - val_loss: 0.0033 - val_accuracy: 0.0000e+00\n",
      "Epoch 35/100\n",
      "100/100 [==============================] - 0s 2ms/step - loss: 0.0047 - accuracy: 0.0200 - val_loss: 0.0034 - val_accuracy: 0.0000e+00\n",
      "Epoch 36/100\n",
      "100/100 [==============================] - 0s 2ms/step - loss: 0.0047 - accuracy: 0.0200 - val_loss: 0.0033 - val_accuracy: 0.0000e+00\n",
      "Epoch 37/100\n",
      "100/100 [==============================] - 0s 2ms/step - loss: 0.0047 - accuracy: 0.0200 - val_loss: 0.0039 - val_accuracy: 0.0000e+00\n",
      "Epoch 38/100\n",
      "100/100 [==============================] - 0s 2ms/step - loss: 0.0046 - accuracy: 0.0200 - val_loss: 0.0032 - val_accuracy: 0.0000e+00\n",
      "Epoch 39/100\n",
      "100/100 [==============================] - 0s 2ms/step - loss: 0.0047 - accuracy: 0.0200 - val_loss: 0.0035 - val_accuracy: 0.0000e+00\n",
      "Epoch 40/100\n",
      "100/100 [==============================] - 0s 2ms/step - loss: 0.0047 - accuracy: 0.0200 - val_loss: 0.0038 - val_accuracy: 0.0000e+00\n",
      "Epoch 41/100\n",
      "100/100 [==============================] - 0s 2ms/step - loss: 0.0048 - accuracy: 0.0200 - val_loss: 0.0033 - val_accuracy: 0.0000e+00\n",
      "Epoch 42/100\n",
      "100/100 [==============================] - 0s 2ms/step - loss: 0.0047 - accuracy: 0.0200 - val_loss: 0.0034 - val_accuracy: 0.0000e+00\n",
      "Epoch 43/100\n",
      "100/100 [==============================] - 0s 2ms/step - loss: 0.0049 - accuracy: 0.0200 - val_loss: 0.0032 - val_accuracy: 0.0000e+00\n",
      "Epoch 44/100\n",
      "100/100 [==============================] - 0s 2ms/step - loss: 0.0046 - accuracy: 0.0200 - val_loss: 0.0035 - val_accuracy: 0.0000e+00\n",
      "Epoch 45/100\n",
      "100/100 [==============================] - 0s 2ms/step - loss: 0.0047 - accuracy: 0.0200 - val_loss: 0.0038 - val_accuracy: 0.0000e+00\n",
      "Epoch 46/100\n",
      "100/100 [==============================] - 0s 2ms/step - loss: 0.0047 - accuracy: 0.0200 - val_loss: 0.0034 - val_accuracy: 0.0000e+00\n",
      "Epoch 47/100\n",
      "100/100 [==============================] - 0s 2ms/step - loss: 0.0047 - accuracy: 0.0200 - val_loss: 0.0032 - val_accuracy: 0.0000e+00\n",
      "Epoch 48/100\n",
      "100/100 [==============================] - 0s 2ms/step - loss: 0.0048 - accuracy: 0.0200 - val_loss: 0.0033 - val_accuracy: 0.0000e+00\n",
      "Epoch 49/100\n",
      "100/100 [==============================] - 0s 2ms/step - loss: 0.0047 - accuracy: 0.0200 - val_loss: 0.0033 - val_accuracy: 0.0000e+00\n",
      "Epoch 50/100\n",
      "100/100 [==============================] - 0s 2ms/step - loss: 0.0046 - accuracy: 0.0200 - val_loss: 0.0034 - val_accuracy: 0.0000e+00\n",
      "Epoch 51/100\n",
      "100/100 [==============================] - 0s 2ms/step - loss: 0.0046 - accuracy: 0.0200 - val_loss: 0.0032 - val_accuracy: 0.0000e+00\n",
      "Epoch 52/100\n",
      "100/100 [==============================] - 0s 2ms/step - loss: 0.0047 - accuracy: 0.0200 - val_loss: 0.0044 - val_accuracy: 0.0000e+00\n",
      "Epoch 53/100\n",
      "100/100 [==============================] - 0s 2ms/step - loss: 0.0047 - accuracy: 0.0200 - val_loss: 0.0031 - val_accuracy: 0.0000e+00\n",
      "Epoch 54/100\n",
      "100/100 [==============================] - 0s 2ms/step - loss: 0.0047 - accuracy: 0.0200 - val_loss: 0.0034 - val_accuracy: 0.0000e+00\n",
      "Epoch 55/100\n",
      "100/100 [==============================] - 0s 2ms/step - loss: 0.0046 - accuracy: 0.0200 - val_loss: 0.0032 - val_accuracy: 0.0000e+00\n"
     ]
    },
    {
     "name": "stdout",
     "output_type": "stream",
     "text": [
      "Epoch 56/100\n",
      "100/100 [==============================] - 0s 2ms/step - loss: 0.0048 - accuracy: 0.0200 - val_loss: 0.0037 - val_accuracy: 0.0000e+00\n",
      "Epoch 57/100\n",
      "100/100 [==============================] - 0s 2ms/step - loss: 0.0049 - accuracy: 0.0200 - val_loss: 0.0032 - val_accuracy: 0.0000e+00\n",
      "Epoch 58/100\n",
      "100/100 [==============================] - 0s 2ms/step - loss: 0.0046 - accuracy: 0.0200 - val_loss: 0.0036 - val_accuracy: 0.0000e+00\n",
      "Epoch 59/100\n",
      "100/100 [==============================] - 0s 2ms/step - loss: 0.0046 - accuracy: 0.0200 - val_loss: 0.0031 - val_accuracy: 0.0000e+00\n",
      "Epoch 60/100\n",
      "100/100 [==============================] - 0s 2ms/step - loss: 0.0047 - accuracy: 0.0200 - val_loss: 0.0035 - val_accuracy: 0.0000e+00\n",
      "Epoch 61/100\n",
      "100/100 [==============================] - 0s 2ms/step - loss: 0.0047 - accuracy: 0.0200 - val_loss: 0.0040 - val_accuracy: 0.0000e+00\n",
      "Epoch 62/100\n",
      "100/100 [==============================] - 0s 2ms/step - loss: 0.0046 - accuracy: 0.0200 - val_loss: 0.0033 - val_accuracy: 0.0000e+00\n",
      "Epoch 63/100\n",
      "100/100 [==============================] - 0s 2ms/step - loss: 0.0046 - accuracy: 0.0200 - val_loss: 0.0035 - val_accuracy: 0.0000e+00\n",
      "Epoch 64/100\n",
      "100/100 [==============================] - 0s 2ms/step - loss: 0.0046 - accuracy: 0.0200 - val_loss: 0.0032 - val_accuracy: 0.0000e+00\n",
      "Epoch 65/100\n",
      "100/100 [==============================] - 0s 2ms/step - loss: 0.0047 - accuracy: 0.0200 - val_loss: 0.0035 - val_accuracy: 0.0000e+00\n",
      "Epoch 66/100\n",
      "100/100 [==============================] - 0s 2ms/step - loss: 0.0046 - accuracy: 0.0200 - val_loss: 0.0035 - val_accuracy: 0.0000e+00\n",
      "Epoch 67/100\n",
      "100/100 [==============================] - 0s 2ms/step - loss: 0.0047 - accuracy: 0.0200 - val_loss: 0.0036 - val_accuracy: 0.0000e+00\n",
      "Epoch 68/100\n",
      "100/100 [==============================] - 0s 2ms/step - loss: 0.0047 - accuracy: 0.0200 - val_loss: 0.0038 - val_accuracy: 0.0000e+00\n",
      "Epoch 69/100\n",
      "100/100 [==============================] - 0s 2ms/step - loss: 0.0045 - accuracy: 0.0200 - val_loss: 0.0044 - val_accuracy: 0.0000e+00\n",
      "Epoch 70/100\n",
      "100/100 [==============================] - 0s 2ms/step - loss: 0.0049 - accuracy: 0.0200 - val_loss: 0.0041 - val_accuracy: 0.0000e+00\n",
      "Epoch 71/100\n",
      "100/100 [==============================] - 0s 2ms/step - loss: 0.0046 - accuracy: 0.0200 - val_loss: 0.0032 - val_accuracy: 0.0000e+00\n",
      "Epoch 72/100\n",
      "100/100 [==============================] - 0s 2ms/step - loss: 0.0047 - accuracy: 0.0200 - val_loss: 0.0032 - val_accuracy: 0.0000e+00\n",
      "Epoch 73/100\n",
      "100/100 [==============================] - 0s 2ms/step - loss: 0.0046 - accuracy: 0.0200 - val_loss: 0.0031 - val_accuracy: 0.0000e+00\n",
      "Epoch 74/100\n",
      "100/100 [==============================] - 0s 2ms/step - loss: 0.0046 - accuracy: 0.0200 - val_loss: 0.0031 - val_accuracy: 0.0000e+00\n",
      "Epoch 75/100\n",
      "100/100 [==============================] - 0s 2ms/step - loss: 0.0046 - accuracy: 0.0200 - val_loss: 0.0032 - val_accuracy: 0.0000e+00\n",
      "Epoch 76/100\n",
      "100/100 [==============================] - 0s 2ms/step - loss: 0.0047 - accuracy: 0.0200 - val_loss: 0.0033 - val_accuracy: 0.0000e+00\n",
      "Epoch 77/100\n",
      "100/100 [==============================] - 0s 2ms/step - loss: 0.0047 - accuracy: 0.0200 - val_loss: 0.0031 - val_accuracy: 0.0000e+00\n",
      "Epoch 78/100\n",
      "100/100 [==============================] - 0s 2ms/step - loss: 0.0047 - accuracy: 0.0200 - val_loss: 0.0031 - val_accuracy: 0.0000e+00\n",
      "Epoch 79/100\n",
      "100/100 [==============================] - 0s 2ms/step - loss: 0.0047 - accuracy: 0.0200 - val_loss: 0.0031 - val_accuracy: 0.0000e+00\n",
      "Epoch 80/100\n",
      "100/100 [==============================] - 0s 2ms/step - loss: 0.0047 - accuracy: 0.0200 - val_loss: 0.0034 - val_accuracy: 0.0000e+00\n",
      "Epoch 81/100\n",
      "100/100 [==============================] - 0s 2ms/step - loss: 0.0046 - accuracy: 0.0200 - val_loss: 0.0032 - val_accuracy: 0.0000e+00\n",
      "Epoch 82/100\n",
      "100/100 [==============================] - 0s 2ms/step - loss: 0.0045 - accuracy: 0.0200 - val_loss: 0.0041 - val_accuracy: 0.0000e+00\n",
      "Epoch 83/100\n",
      "100/100 [==============================] - 0s 2ms/step - loss: 0.0045 - accuracy: 0.0200 - val_loss: 0.0031 - val_accuracy: 0.0000e+00\n",
      "Epoch 84/100\n",
      "100/100 [==============================] - 0s 2ms/step - loss: 0.0046 - accuracy: 0.0200 - val_loss: 0.0037 - val_accuracy: 0.0000e+00\n",
      "Epoch 85/100\n",
      "100/100 [==============================] - 0s 2ms/step - loss: 0.0045 - accuracy: 0.0200 - val_loss: 0.0037 - val_accuracy: 0.0000e+00\n",
      "Epoch 86/100\n",
      "100/100 [==============================] - 0s 2ms/step - loss: 0.0045 - accuracy: 0.0200 - val_loss: 0.0032 - val_accuracy: 0.0000e+00\n",
      "Epoch 87/100\n",
      "100/100 [==============================] - 0s 2ms/step - loss: 0.0046 - accuracy: 0.0200 - val_loss: 0.0034 - val_accuracy: 0.0000e+00\n",
      "Epoch 88/100\n",
      "100/100 [==============================] - 0s 2ms/step - loss: 0.0048 - accuracy: 0.0200 - val_loss: 0.0034 - val_accuracy: 0.0000e+00\n",
      "Epoch 89/100\n",
      "100/100 [==============================] - 0s 2ms/step - loss: 0.0046 - accuracy: 0.0200 - val_loss: 0.0032 - val_accuracy: 0.0000e+00\n",
      "Epoch 90/100\n",
      "100/100 [==============================] - 0s 2ms/step - loss: 0.0045 - accuracy: 0.0200 - val_loss: 0.0031 - val_accuracy: 0.0000e+00\n",
      "Epoch 91/100\n",
      "100/100 [==============================] - 0s 2ms/step - loss: 0.0046 - accuracy: 0.0200 - val_loss: 0.0036 - val_accuracy: 0.0000e+00\n",
      "Epoch 92/100\n",
      "100/100 [==============================] - 0s 2ms/step - loss: 0.0045 - accuracy: 0.0200 - val_loss: 0.0032 - val_accuracy: 0.0000e+00\n",
      "Epoch 93/100\n",
      "100/100 [==============================] - 0s 2ms/step - loss: 0.0048 - accuracy: 0.0200 - val_loss: 0.0031 - val_accuracy: 0.0000e+00\n",
      "Epoch 94/100\n",
      "100/100 [==============================] - 0s 2ms/step - loss: 0.0046 - accuracy: 0.0200 - val_loss: 0.0031 - val_accuracy: 0.0000e+00\n",
      "Epoch 95/100\n",
      "100/100 [==============================] - 0s 2ms/step - loss: 0.0047 - accuracy: 0.0200 - val_loss: 0.0032 - val_accuracy: 0.0000e+00\n",
      "Epoch 96/100\n",
      "100/100 [==============================] - 0s 2ms/step - loss: 0.0046 - accuracy: 0.0200 - val_loss: 0.0033 - val_accuracy: 0.0000e+00\n",
      "Epoch 97/100\n",
      "100/100 [==============================] - 0s 2ms/step - loss: 0.0047 - accuracy: 0.0200 - val_loss: 0.0033 - val_accuracy: 0.0000e+00\n",
      "Epoch 98/100\n",
      "100/100 [==============================] - 0s 2ms/step - loss: 0.0045 - accuracy: 0.0200 - val_loss: 0.0032 - val_accuracy: 0.0000e+00\n",
      "Epoch 99/100\n",
      "100/100 [==============================] - 0s 2ms/step - loss: 0.0046 - accuracy: 0.0200 - val_loss: 0.0034 - val_accuracy: 0.0000e+00\n",
      "Epoch 100/100\n",
      "100/100 [==============================] - 0s 2ms/step - loss: 0.0046 - accuracy: 0.0200 - val_loss: 0.0032 - val_accuracy: 0.0000e+00\n"
     ]
    }
   ],
   "source": [
    "history=model.fit(x_train,y_train,epochs=100,batch_size=1,validation_data=(x_test,y_test))"
   ]
  },
  {
   "cell_type": "code",
   "execution_count": 142,
   "metadata": {
    "scrolled": true
   },
   "outputs": [
    {
     "data": {
      "text/plain": [
       "[<matplotlib.lines.Line2D at 0x2668e44b5c0>]"
      ]
     },
     "execution_count": 142,
     "metadata": {},
     "output_type": "execute_result"
    },
    {
     "data": {
      "image/png": "[encoded data removed]",
      "text/plain": [
       "<Figure size 432x288 with 1 Axes>"
      ]
     },
     "metadata": {
      "needs_background": "light"
     },
     "output_type": "display_data"
    }
   ],
   "source": [
    "#plot for data with 1 LSTM\n",
    "plt.plot(history.history['loss'])"
   ]
  },
  {
   "cell_type": "code",
   "execution_count": 146,
   "metadata": {},
   "outputs": [
    {
     "name": "stdout",
     "output_type": "stream",
     "text": [
      "Train on 100 samples, validate on 43 samples\n",
      "Epoch 1/100\n",
      "100/100 [==============================] - 1s 8ms/step - loss: 0.1560 - accuracy: 0.0100 - val_loss: 0.1076 - val_accuracy: 0.0000e+00\n",
      "Epoch 2/100\n",
      "100/100 [==============================] - 0s 2ms/step - loss: 0.0936 - accuracy: 0.0100 - val_loss: 0.0650 - val_accuracy: 0.0000e+00\n",
      "Epoch 3/100\n",
      "100/100 [==============================] - 0s 2ms/step - loss: 0.0617 - accuracy: 0.0100 - val_loss: 0.0462 - val_accuracy: 0.0000e+00\n",
      "Epoch 4/100\n",
      "100/100 [==============================] - 0s 2ms/step - loss: 0.0495 - accuracy: 0.0100 - val_loss: 0.0401 - val_accuracy: 0.0000e+00\n",
      "Epoch 5/100\n",
      "100/100 [==============================] - 0s 2ms/step - loss: 0.0444 - accuracy: 0.0100 - val_loss: 0.0365 - val_accuracy: 0.0000e+00\n",
      "Epoch 6/100\n",
      "100/100 [==============================] - 0s 2ms/step - loss: 0.0405 - accuracy: 0.0100 - val_loss: 0.0336 - val_accuracy: 0.0000e+00\n",
      "Epoch 7/100\n",
      "100/100 [==============================] - 0s 2ms/step - loss: 0.0374 - accuracy: 0.0100 - val_loss: 0.0306 - val_accuracy: 0.0000e+00\n",
      "Epoch 8/100\n",
      "100/100 [==============================] - 0s 2ms/step - loss: 0.0338 - accuracy: 0.0100 - val_loss: 0.0278 - val_accuracy: 0.0000e+00\n",
      "Epoch 9/100\n",
      "100/100 [==============================] - 0s 2ms/step - loss: 0.0305 - accuracy: 0.0100 - val_loss: 0.0249 - val_accuracy: 0.0000e+00\n",
      "Epoch 10/100\n",
      "100/100 [==============================] - 0s 2ms/step - loss: 0.0271 - accuracy: 0.0200 - val_loss: 0.0219 - val_accuracy: 0.0000e+00\n",
      "Epoch 11/100\n",
      "100/100 [==============================] - 0s 2ms/step - loss: 0.0239 - accuracy: 0.0200 - val_loss: 0.0192 - val_accuracy: 0.0000e+00\n",
      "Epoch 12/100\n",
      "100/100 [==============================] - 0s 2ms/step - loss: 0.0207 - accuracy: 0.0200 - val_loss: 0.0166 - val_accuracy: 0.0000e+00\n",
      "Epoch 13/100\n",
      "100/100 [==============================] - 0s 2ms/step - loss: 0.0177 - accuracy: 0.0200 - val_loss: 0.0142 - val_accuracy: 0.0000e+00\n",
      "Epoch 14/100\n",
      "100/100 [==============================] - 0s 2ms/step - loss: 0.0149 - accuracy: 0.0200 - val_loss: 0.0117 - val_accuracy: 0.0000e+00\n",
      "Epoch 15/100\n",
      "100/100 [==============================] - 0s 2ms/step - loss: 0.0127 - accuracy: 0.0200 - val_loss: 0.0097 - val_accuracy: 0.0000e+00\n",
      "Epoch 16/100\n",
      "100/100 [==============================] - 0s 2ms/step - loss: 0.0104 - accuracy: 0.0200 - val_loss: 0.0081 - val_accuracy: 0.0000e+00\n",
      "Epoch 17/100\n",
      "100/100 [==============================] - 0s 2ms/step - loss: 0.0088 - accuracy: 0.0200 - val_loss: 0.0067 - val_accuracy: 0.0000e+00\n",
      "Epoch 18/100\n",
      "100/100 [==============================] - 0s 2ms/step - loss: 0.0075 - accuracy: 0.0200 - val_loss: 0.0057 - val_accuracy: 0.0000e+00\n",
      "Epoch 19/100\n",
      "100/100 [==============================] - 0s 2ms/step - loss: 0.0064 - accuracy: 0.0200 - val_loss: 0.0047 - val_accuracy: 0.0000e+00\n",
      "Epoch 20/100\n",
      "100/100 [==============================] - 0s 2ms/step - loss: 0.0058 - accuracy: 0.0200 - val_loss: 0.0042 - val_accuracy: 0.0000e+00\n",
      "Epoch 21/100\n",
      "100/100 [==============================] - 0s 2ms/step - loss: 0.0052 - accuracy: 0.0200 - val_loss: 0.0040 - val_accuracy: 0.0000e+00\n",
      "Epoch 22/100\n",
      "100/100 [==============================] - 0s 2ms/step - loss: 0.0050 - accuracy: 0.0200 - val_loss: 0.0036 - val_accuracy: 0.0000e+00\n",
      "Epoch 23/100\n",
      "100/100 [==============================] - 0s 2ms/step - loss: 0.0048 - accuracy: 0.0200 - val_loss: 0.0034 - val_accuracy: 0.0000e+00\n",
      "Epoch 24/100\n",
      "100/100 [==============================] - 0s 2ms/step - loss: 0.0045 - accuracy: 0.0200 - val_loss: 0.0037 - val_accuracy: 0.0000e+00\n",
      "Epoch 25/100\n",
      "100/100 [==============================] - 0s 2ms/step - loss: 0.0045 - accuracy: 0.0200 - val_loss: 0.0032 - val_accuracy: 0.0000e+00\n",
      "Epoch 26/100\n",
      "100/100 [==============================] - 0s 2ms/step - loss: 0.0046 - accuracy: 0.0200 - val_loss: 0.0033 - val_accuracy: 0.0000e+00\n",
      "Epoch 27/100\n",
      "100/100 [==============================] - 0s 2ms/step - loss: 0.0047 - accuracy: 0.0200 - val_loss: 0.0031 - val_accuracy: 0.0000e+00\n",
      "Epoch 28/100\n",
      "100/100 [==============================] - 0s 2ms/step - loss: 0.0044 - accuracy: 0.0200 - val_loss: 0.0032 - val_accuracy: 0.0000e+00\n",
      "Epoch 29/100\n",
      "100/100 [==============================] - 0s 2ms/step - loss: 0.0046 - accuracy: 0.0200 - val_loss: 0.0034 - val_accuracy: 0.0000e+00\n",
      "Epoch 30/100\n",
      "100/100 [==============================] - 0s 2ms/step - loss: 0.0045 - accuracy: 0.0200 - val_loss: 0.0036 - val_accuracy: 0.0000e+00\n",
      "Epoch 31/100\n",
      "100/100 [==============================] - 0s 2ms/step - loss: 0.0046 - accuracy: 0.0200 - val_loss: 0.0033 - val_accuracy: 0.0000e+00\n",
      "Epoch 32/100\n",
      "100/100 [==============================] - 0s 2ms/step - loss: 0.0045 - accuracy: 0.0200 - val_loss: 0.0032 - val_accuracy: 0.0000e+00\n",
      "Epoch 33/100\n",
      "100/100 [==============================] - 0s 2ms/step - loss: 0.0046 - accuracy: 0.0200 - val_loss: 0.0034 - val_accuracy: 0.0000e+00\n",
      "Epoch 34/100\n",
      "100/100 [==============================] - 0s 2ms/step - loss: 0.0046 - accuracy: 0.0200 - val_loss: 0.0033 - val_accuracy: 0.0000e+00\n",
      "Epoch 35/100\n",
      "100/100 [==============================] - 0s 2ms/step - loss: 0.0045 - accuracy: 0.0200 - val_loss: 0.0034 - val_accuracy: 0.0000e+00\n",
      "Epoch 36/100\n",
      "100/100 [==============================] - 0s 2ms/step - loss: 0.0045 - accuracy: 0.0200 - val_loss: 0.0032 - val_accuracy: 0.0000e+00\n",
      "Epoch 37/100\n",
      "100/100 [==============================] - 0s 2ms/step - loss: 0.0045 - accuracy: 0.0200 - val_loss: 0.0036 - val_accuracy: 0.0000e+00\n",
      "Epoch 38/100\n",
      "100/100 [==============================] - 0s 2ms/step - loss: 0.0045 - accuracy: 0.0200 - val_loss: 0.0031 - val_accuracy: 0.0000e+00\n",
      "Epoch 39/100\n",
      "100/100 [==============================] - 0s 3ms/step - loss: 0.0045 - accuracy: 0.0200 - val_loss: 0.0032 - val_accuracy: 0.0000e+00\n",
      "Epoch 40/100\n",
      "100/100 [==============================] - 0s 3ms/step - loss: 0.0045 - accuracy: 0.0200 - val_loss: 0.0032 - val_accuracy: 0.0000e+00\n",
      "Epoch 41/100\n",
      "100/100 [==============================] - 0s 3ms/step - loss: 0.0045 - accuracy: 0.0200 - val_loss: 0.0033 - val_accuracy: 0.0000e+00\n",
      "Epoch 42/100\n",
      "100/100 [==============================] - 0s 2ms/step - loss: 0.0045 - accuracy: 0.0200 - val_loss: 0.0032 - val_accuracy: 0.0000e+00\n",
      "Epoch 43/100\n",
      "100/100 [==============================] - 0s 2ms/step - loss: 0.0044 - accuracy: 0.0200 - val_loss: 0.0035 - val_accuracy: 0.0000e+00\n",
      "Epoch 44/100\n",
      "100/100 [==============================] - 0s 2ms/step - loss: 0.0045 - accuracy: 0.0200 - val_loss: 0.0033 - val_accuracy: 0.0000e+00\n",
      "Epoch 45/100\n",
      "100/100 [==============================] - 0s 2ms/step - loss: 0.0045 - accuracy: 0.0200 - val_loss: 0.0038 - val_accuracy: 0.0000e+00\n",
      "Epoch 46/100\n",
      "100/100 [==============================] - 0s 2ms/step - loss: 0.0045 - accuracy: 0.0200 - val_loss: 0.0034 - val_accuracy: 0.0000e+00\n",
      "Epoch 47/100\n",
      "100/100 [==============================] - 0s 2ms/step - loss: 0.0045 - accuracy: 0.0200 - val_loss: 0.0031 - val_accuracy: 0.0000e+00\n",
      "Epoch 48/100\n",
      "100/100 [==============================] - 0s 2ms/step - loss: 0.0045 - accuracy: 0.0200 - val_loss: 0.0035 - val_accuracy: 0.0000e+00\n",
      "Epoch 49/100\n",
      "100/100 [==============================] - 0s 2ms/step - loss: 0.0045 - accuracy: 0.0200 - val_loss: 0.0037 - val_accuracy: 0.0000e+00\n",
      "Epoch 50/100\n",
      "100/100 [==============================] - 0s 2ms/step - loss: 0.0046 - accuracy: 0.0200 - val_loss: 0.0033 - val_accuracy: 0.0000e+00\n",
      "Epoch 51/100\n",
      "100/100 [==============================] - 0s 2ms/step - loss: 0.0046 - accuracy: 0.0200 - val_loss: 0.0035 - val_accuracy: 0.0000e+00\n",
      "Epoch 52/100\n",
      "100/100 [==============================] - 0s 2ms/step - loss: 0.0045 - accuracy: 0.0200 - val_loss: 0.0034 - val_accuracy: 0.0000e+00\n",
      "Epoch 53/100\n",
      "100/100 [==============================] - 0s 2ms/step - loss: 0.0044 - accuracy: 0.0200 - val_loss: 0.0031 - val_accuracy: 0.0000e+00\n",
      "Epoch 54/100\n",
      "100/100 [==============================] - 0s 2ms/step - loss: 0.0044 - accuracy: 0.0200 - val_loss: 0.0032 - val_accuracy: 0.0000e+00\n",
      "Epoch 55/100\n",
      "100/100 [==============================] - 0s 2ms/step - loss: 0.0045 - accuracy: 0.0200 - val_loss: 0.0032 - val_accuracy: 0.0000e+00\n",
      "Epoch 56/100\n"
     ]
    },
    {
     "name": "stdout",
     "output_type": "stream",
     "text": [
      "100/100 [==============================] - 0s 2ms/step - loss: 0.0044 - accuracy: 0.0200 - val_loss: 0.0038 - val_accuracy: 0.0000e+00\n",
      "Epoch 57/100\n",
      "100/100 [==============================] - 0s 2ms/step - loss: 0.0045 - accuracy: 0.0200 - val_loss: 0.0032 - val_accuracy: 0.0000e+00\n",
      "Epoch 58/100\n",
      "100/100 [==============================] - 0s 2ms/step - loss: 0.0045 - accuracy: 0.0200 - val_loss: 0.0035 - val_accuracy: 0.0000e+00\n",
      "Epoch 59/100\n",
      "100/100 [==============================] - 0s 2ms/step - loss: 0.0046 - accuracy: 0.0200 - val_loss: 0.0033 - val_accuracy: 0.0000e+00\n",
      "Epoch 60/100\n",
      "100/100 [==============================] - 0s 2ms/step - loss: 0.0046 - accuracy: 0.0200 - val_loss: 0.0033 - val_accuracy: 0.0000e+00\n",
      "Epoch 61/100\n",
      "100/100 [==============================] - 0s 2ms/step - loss: 0.0047 - accuracy: 0.0200 - val_loss: 0.0033 - val_accuracy: 0.0000e+00\n",
      "Epoch 62/100\n",
      "100/100 [==============================] - 0s 2ms/step - loss: 0.0045 - accuracy: 0.0200 - val_loss: 0.0035 - val_accuracy: 0.0000e+00\n",
      "Epoch 63/100\n",
      "100/100 [==============================] - 0s 2ms/step - loss: 0.0046 - accuracy: 0.0200 - val_loss: 0.0031 - val_accuracy: 0.0000e+00\n",
      "Epoch 64/100\n",
      "100/100 [==============================] - 0s 2ms/step - loss: 0.0045 - accuracy: 0.0200 - val_loss: 0.0032 - val_accuracy: 0.0000e+00\n",
      "Epoch 65/100\n",
      "100/100 [==============================] - 0s 2ms/step - loss: 0.0044 - accuracy: 0.0200 - val_loss: 0.0035 - val_accuracy: 0.0000e+00\n",
      "Epoch 66/100\n",
      "100/100 [==============================] - 0s 2ms/step - loss: 0.0045 - accuracy: 0.0200 - val_loss: 0.0037 - val_accuracy: 0.0000e+00\n",
      "Epoch 67/100\n",
      "100/100 [==============================] - 0s 2ms/step - loss: 0.0045 - accuracy: 0.0200 - val_loss: 0.0037 - val_accuracy: 0.0000e+00\n",
      "Epoch 68/100\n",
      "100/100 [==============================] - 0s 2ms/step - loss: 0.0046 - accuracy: 0.0200 - val_loss: 0.0033 - val_accuracy: 0.0000e+00\n",
      "Epoch 69/100\n",
      "100/100 [==============================] - 0s 2ms/step - loss: 0.0044 - accuracy: 0.0200 - val_loss: 0.0031 - val_accuracy: 0.0000e+00\n",
      "Epoch 70/100\n",
      "100/100 [==============================] - 0s 2ms/step - loss: 0.0046 - accuracy: 0.0200 - val_loss: 0.0039 - val_accuracy: 0.0000e+00\n",
      "Epoch 71/100\n",
      "100/100 [==============================] - 0s 2ms/step - loss: 0.0046 - accuracy: 0.0200 - val_loss: 0.0033 - val_accuracy: 0.0000e+00\n",
      "Epoch 72/100\n",
      "100/100 [==============================] - 0s 2ms/step - loss: 0.0045 - accuracy: 0.0200 - val_loss: 0.0035 - val_accuracy: 0.0000e+00\n",
      "Epoch 73/100\n",
      "100/100 [==============================] - 0s 2ms/step - loss: 0.0046 - accuracy: 0.0200 - val_loss: 0.0033 - val_accuracy: 0.0000e+00\n",
      "Epoch 74/100\n",
      "100/100 [==============================] - 0s 2ms/step - loss: 0.0045 - accuracy: 0.0200 - val_loss: 0.0036 - val_accuracy: 0.0000e+00\n",
      "Epoch 75/100\n",
      "100/100 [==============================] - 0s 2ms/step - loss: 0.0046 - accuracy: 0.0200 - val_loss: 0.0034 - val_accuracy: 0.0000e+00\n",
      "Epoch 76/100\n",
      "100/100 [==============================] - 0s 2ms/step - loss: 0.0045 - accuracy: 0.0200 - val_loss: 0.0033 - val_accuracy: 0.0000e+00\n",
      "Epoch 77/100\n",
      "100/100 [==============================] - 0s 2ms/step - loss: 0.0045 - accuracy: 0.0200 - val_loss: 0.0033 - val_accuracy: 0.0000e+00\n",
      "Epoch 78/100\n",
      "100/100 [==============================] - 0s 2ms/step - loss: 0.0045 - accuracy: 0.0200 - val_loss: 0.0031 - val_accuracy: 0.0000e+00\n",
      "Epoch 79/100\n",
      "100/100 [==============================] - 0s 2ms/step - loss: 0.0043 - accuracy: 0.0200 - val_loss: 0.0041 - val_accuracy: 0.0000e+00\n",
      "Epoch 80/100\n",
      "100/100 [==============================] - 0s 2ms/step - loss: 0.0046 - accuracy: 0.0200 - val_loss: 0.0035 - val_accuracy: 0.0000e+00\n",
      "Epoch 81/100\n",
      "100/100 [==============================] - 0s 2ms/step - loss: 0.0044 - accuracy: 0.0200 - val_loss: 0.0031 - val_accuracy: 0.0000e+00\n",
      "Epoch 82/100\n",
      "100/100 [==============================] - 0s 2ms/step - loss: 0.0046 - accuracy: 0.0200 - val_loss: 0.0031 - val_accuracy: 0.0000e+00\n",
      "Epoch 83/100\n",
      "100/100 [==============================] - 0s 2ms/step - loss: 0.0046 - accuracy: 0.0200 - val_loss: 0.0031 - val_accuracy: 0.0000e+00\n",
      "Epoch 84/100\n",
      "100/100 [==============================] - 0s 2ms/step - loss: 0.0045 - accuracy: 0.0200 - val_loss: 0.0033 - val_accuracy: 0.0000e+00\n",
      "Epoch 85/100\n",
      "100/100 [==============================] - 0s 2ms/step - loss: 0.0044 - accuracy: 0.0200 - val_loss: 0.0032 - val_accuracy: 0.0000e+00\n",
      "Epoch 86/100\n",
      "100/100 [==============================] - 0s 2ms/step - loss: 0.0045 - accuracy: 0.0200 - val_loss: 0.0035 - val_accuracy: 0.0000e+00\n",
      "Epoch 87/100\n",
      "100/100 [==============================] - 0s 2ms/step - loss: 0.0044 - accuracy: 0.0200 - val_loss: 0.0032 - val_accuracy: 0.0000e+00\n",
      "Epoch 88/100\n",
      "100/100 [==============================] - 0s 2ms/step - loss: 0.0045 - accuracy: 0.0200 - val_loss: 0.0035 - val_accuracy: 0.0000e+00\n",
      "Epoch 89/100\n",
      "100/100 [==============================] - 0s 2ms/step - loss: 0.0045 - accuracy: 0.0200 - val_loss: 0.0033 - val_accuracy: 0.0000e+00\n",
      "Epoch 90/100\n",
      "100/100 [==============================] - 0s 2ms/step - loss: 0.0044 - accuracy: 0.0200 - val_loss: 0.0033 - val_accuracy: 0.0000e+00\n",
      "Epoch 91/100\n",
      "100/100 [==============================] - 0s 2ms/step - loss: 0.0044 - accuracy: 0.0200 - val_loss: 0.0036 - val_accuracy: 0.0000e+00\n",
      "Epoch 92/100\n",
      "100/100 [==============================] - 0s 2ms/step - loss: 0.0044 - accuracy: 0.0200 - val_loss: 0.0031 - val_accuracy: 0.0000e+00\n",
      "Epoch 93/100\n",
      "100/100 [==============================] - 0s 2ms/step - loss: 0.0045 - accuracy: 0.0200 - val_loss: 0.0037 - val_accuracy: 0.0000e+00\n",
      "Epoch 94/100\n",
      "100/100 [==============================] - 0s 2ms/step - loss: 0.0044 - accuracy: 0.0200 - val_loss: 0.0031 - val_accuracy: 0.0000e+00\n",
      "Epoch 95/100\n",
      "100/100 [==============================] - 0s 2ms/step - loss: 0.0045 - accuracy: 0.0200 - val_loss: 0.0031 - val_accuracy: 0.0000e+00\n",
      "Epoch 96/100\n",
      "100/100 [==============================] - 0s 2ms/step - loss: 0.0044 - accuracy: 0.0200 - val_loss: 0.0032 - val_accuracy: 0.0000e+00\n",
      "Epoch 97/100\n",
      "100/100 [==============================] - 0s 2ms/step - loss: 0.0046 - accuracy: 0.0200 - val_loss: 0.0034 - val_accuracy: 0.0000e+00\n",
      "Epoch 98/100\n",
      "100/100 [==============================] - 0s 2ms/step - loss: 0.0045 - accuracy: 0.0200 - val_loss: 0.0032 - val_accuracy: 0.0000e+00\n",
      "Epoch 99/100\n",
      "100/100 [==============================] - 0s 2ms/step - loss: 0.0044 - accuracy: 0.0200 - val_loss: 0.0031 - val_accuracy: 0.0000e+00\n",
      "Epoch 100/100\n",
      "100/100 [==============================] - 0s 2ms/step - loss: 0.0043 - accuracy: 0.0200 - val_loss: 0.0039 - val_accuracy: 0.0000e+00\n"
     ]
    }
   ],
   "source": [
    "history=model.fit(x_train,y_train,epochs=100,batch_size=1,validation_data=(x_test,y_test))"
   ]
  },
  {
   "cell_type": "code",
   "execution_count": 147,
   "metadata": {},
   "outputs": [
    {
     "data": {
      "text/plain": [
       "[<matplotlib.lines.Line2D at 0x26692c75c18>]"
      ]
     },
     "execution_count": 147,
     "metadata": {},
     "output_type": "execute_result"
    },
    {
     "data": {
      "image/png": "[encoded data removed]",
      "text/plain": [
       "<Figure size 432x288 with 1 Axes>"
      ]
     },
     "metadata": {
      "needs_background": "light"
     },
     "output_type": "display_data"
    }
   ],
   "source": [
    "#plot for data with 1 LSTM\n",
    "plt.plot(history.history['loss'])"
   ]
  },
  {
   "cell_type": "code",
   "execution_count": 127,
   "metadata": {},
   "outputs": [],
   "source": [
    "result=model.predict(x_test)"
   ]
  },
  {
   "cell_type": "code",
   "execution_count": 128,
   "metadata": {},
   "outputs": [
    {
     "data": {
      "text/plain": [
       "(43, 1)"
      ]
     },
     "execution_count": 128,
     "metadata": {},
     "output_type": "execute_result"
    }
   ],
   "source": [
    "y_test.shape"
   ]
  },
  {
   "cell_type": "code",
   "execution_count": 148,
   "metadata": {},
   "outputs": [
    {
     "data": {
      "text/plain": [
       "<matplotlib.collections.PathCollection at 0x26692ce6320>"
      ]
     },
     "execution_count": 148,
     "metadata": {},
     "output_type": "execute_result"
    },
    {
     "data": {
      "image/png": "[encoded data removed]",
      "text/plain": [
       "<Figure size 432x288 with 1 Axes>"
      ]
     },
     "metadata": {
      "needs_background": "light"
     },
     "output_type": "display_data"
    }
   ],
   "source": [
    "plt.scatter(range(43),y_test,c='green')\n",
    "plt.scatter(range(43),result,c='red')"
   ]
  },
  {
   "cell_type": "code",
   "execution_count": null,
   "metadata": {},
   "outputs": [],
   "source": []
  }
 ],
 "metadata": {
  "kernelspec": {
   "display_name": "Python 3",
   "language": "python",
   "name": "python3"
  },
  "language_info": {
   "codemirror_mode": {
    "name": "ipython",
    "version": 3
   },
   "file_extension": ".py",
   "mimetype": "text/x-python",
   "name": "python",
   "nbconvert_exporter": "python",
   "pygments_lexer": "ipython3",
   "version": "3.6.7"
  }
 },
 "nbformat": 4,
 "nbformat_minor": 2
}
