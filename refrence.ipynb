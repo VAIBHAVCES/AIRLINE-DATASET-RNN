{
 "cells": [
  {
   "cell_type": "code",
   "execution_count": 1,
   "metadata": {},
   "outputs": [
    {
     "name": "stderr",
     "output_type": "stream",
     "text": [
      "Using TensorFlow backend.\n",
      "c:\\users\\vaibhav jain\\appdata\\local\\programs\\python\\python36\\lib\\site-packages\\tensorflow\\python\\framework\\dtypes.py:516: FutureWarning: Passing (type, 1) or '1type' as a synonym of type is deprecated; in a future version of numpy, it will be understood as (type, (1,)) / '(1,)type'.\n",
      "  _np_qint8 = np.dtype([(\"qint8\", np.int8, 1)])\n",
      "c:\\users\\vaibhav jain\\appdata\\local\\programs\\python\\python36\\lib\\site-packages\\tensorflow\\python\\framework\\dtypes.py:517: FutureWarning: Passing (type, 1) or '1type' as a synonym of type is deprecated; in a future version of numpy, it will be understood as (type, (1,)) / '(1,)type'.\n",
      "  _np_quint8 = np.dtype([(\"quint8\", np.uint8, 1)])\n",
      "c:\\users\\vaibhav jain\\appdata\\local\\programs\\python\\python36\\lib\\site-packages\\tensorflow\\python\\framework\\dtypes.py:518: FutureWarning: Passing (type, 1) or '1type' as a synonym of type is deprecated; in a future version of numpy, it will be understood as (type, (1,)) / '(1,)type'.\n",
      "  _np_qint16 = np.dtype([(\"qint16\", np.int16, 1)])\n",
      "c:\\users\\vaibhav jain\\appdata\\local\\programs\\python\\python36\\lib\\site-packages\\tensorflow\\python\\framework\\dtypes.py:519: FutureWarning: Passing (type, 1) or '1type' as a synonym of type is deprecated; in a future version of numpy, it will be understood as (type, (1,)) / '(1,)type'.\n",
      "  _np_quint16 = np.dtype([(\"quint16\", np.uint16, 1)])\n",
      "c:\\users\\vaibhav jain\\appdata\\local\\programs\\python\\python36\\lib\\site-packages\\tensorflow\\python\\framework\\dtypes.py:520: FutureWarning: Passing (type, 1) or '1type' as a synonym of type is deprecated; in a future version of numpy, it will be understood as (type, (1,)) / '(1,)type'.\n",
      "  _np_qint32 = np.dtype([(\"qint32\", np.int32, 1)])\n",
      "c:\\users\\vaibhav jain\\appdata\\local\\programs\\python\\python36\\lib\\site-packages\\tensorflow\\python\\framework\\dtypes.py:525: FutureWarning: Passing (type, 1) or '1type' as a synonym of type is deprecated; in a future version of numpy, it will be understood as (type, (1,)) / '(1,)type'.\n",
      "  np_resource = np.dtype([(\"resource\", np.ubyte, 1)])\n",
      "c:\\users\\vaibhav jain\\appdata\\local\\programs\\python\\python36\\lib\\site-packages\\tensorboard\\compat\\tensorflow_stub\\dtypes.py:541: FutureWarning: Passing (type, 1) or '1type' as a synonym of type is deprecated; in a future version of numpy, it will be understood as (type, (1,)) / '(1,)type'.\n",
      "  _np_qint8 = np.dtype([(\"qint8\", np.int8, 1)])\n",
      "c:\\users\\vaibhav jain\\appdata\\local\\programs\\python\\python36\\lib\\site-packages\\tensorboard\\compat\\tensorflow_stub\\dtypes.py:542: FutureWarning: Passing (type, 1) or '1type' as a synonym of type is deprecated; in a future version of numpy, it will be understood as (type, (1,)) / '(1,)type'.\n",
      "  _np_quint8 = np.dtype([(\"quint8\", np.uint8, 1)])\n",
      "c:\\users\\vaibhav jain\\appdata\\local\\programs\\python\\python36\\lib\\site-packages\\tensorboard\\compat\\tensorflow_stub\\dtypes.py:543: FutureWarning: Passing (type, 1) or '1type' as a synonym of type is deprecated; in a future version of numpy, it will be understood as (type, (1,)) / '(1,)type'.\n",
      "  _np_qint16 = np.dtype([(\"qint16\", np.int16, 1)])\n",
      "c:\\users\\vaibhav jain\\appdata\\local\\programs\\python\\python36\\lib\\site-packages\\tensorboard\\compat\\tensorflow_stub\\dtypes.py:544: FutureWarning: Passing (type, 1) or '1type' as a synonym of type is deprecated; in a future version of numpy, it will be understood as (type, (1,)) / '(1,)type'.\n",
      "  _np_quint16 = np.dtype([(\"quint16\", np.uint16, 1)])\n",
      "c:\\users\\vaibhav jain\\appdata\\local\\programs\\python\\python36\\lib\\site-packages\\tensorboard\\compat\\tensorflow_stub\\dtypes.py:545: FutureWarning: Passing (type, 1) or '1type' as a synonym of type is deprecated; in a future version of numpy, it will be understood as (type, (1,)) / '(1,)type'.\n",
      "  _np_qint32 = np.dtype([(\"qint32\", np.int32, 1)])\n",
      "c:\\users\\vaibhav jain\\appdata\\local\\programs\\python\\python36\\lib\\site-packages\\tensorboard\\compat\\tensorflow_stub\\dtypes.py:550: FutureWarning: Passing (type, 1) or '1type' as a synonym of type is deprecated; in a future version of numpy, it will be understood as (type, (1,)) / '(1,)type'.\n",
      "  np_resource = np.dtype([(\"resource\", np.ubyte, 1)])\n"
     ]
    }
   ],
   "source": [
    "\n",
    "import numpy\n",
    "import matplotlib.pyplot as plt\n",
    "import pandas\n",
    "import math\n",
    "from keras.models import Sequential\n",
    "from keras.layers import Dense\n",
    "from keras.layers import LSTM\n",
    "from sklearn.preprocessing import MinMaxScaler\n",
    "from sklearn.metrics import mean_squared_error\n"
   ]
  },
  {
   "cell_type": "code",
   "execution_count": 2,
   "metadata": {},
   "outputs": [],
   "source": [
    "# fix random seed for reproducibility\n",
    "numpy.random.seed(7)"
   ]
  },
  {
   "cell_type": "code",
   "execution_count": 3,
   "metadata": {},
   "outputs": [],
   "source": [
    "# load the dataset\n",
    "dataframe = pandas.read_csv('airline-passengers.csv', usecols=[1], engine='python')\n",
    "dataset = dataframe.values\n",
    "dataset = dataset.astype('float32')"
   ]
  },
  {
   "cell_type": "code",
   "execution_count": 4,
   "metadata": {},
   "outputs": [
    {
     "data": {
      "text/plain": [
       "(144, 1)"
      ]
     },
     "execution_count": 4,
     "metadata": {},
     "output_type": "execute_result"
    }
   ],
   "source": [
    "dataset.shape"
   ]
  },
  {
   "cell_type": "code",
   "execution_count": 5,
   "metadata": {},
   "outputs": [],
   "source": [
    "# normalize the dataset\n",
    "scaler = MinMaxScaler(feature_range=(0, 1))\n",
    "dataset = scaler.fit_transform(dataset)"
   ]
  },
  {
   "cell_type": "code",
   "execution_count": 6,
   "metadata": {},
   "outputs": [
    {
     "name": "stdout",
     "output_type": "stream",
     "text": [
      "96 48\n"
     ]
    }
   ],
   "source": [
    "# split into train and test sets\n",
    "train_size = int(len(dataset) * 0.67)\n",
    "test_size = len(dataset) - train_size\n",
    "train, test = dataset[0:train_size,:], dataset[train_size:len(dataset),:]\n",
    "print(len(train), len(test))"
   ]
  },
  {
   "cell_type": "code",
   "execution_count": 7,
   "metadata": {},
   "outputs": [],
   "source": [
    "# convert an array of values into a dataset matrix\n",
    "def create_dataset(dataset, look_back=1):\n",
    "\tdataX, dataY = [], []\n",
    "\tfor i in range(len(dataset)-look_back-1):\n",
    "\t\ta = dataset[i:(i+look_back), 0]\n",
    "\t\tdataX.append(a)\n",
    "\t\tdataY.append(dataset[i + look_back, 0])\n",
    "\treturn numpy.array(dataX), numpy.array(dataY)"
   ]
  },
  {
   "cell_type": "code",
   "execution_count": 8,
   "metadata": {},
   "outputs": [],
   "source": [
    "# reshape into X=t and Y=t+1\n",
    "look_back = 1\n",
    "trainX, trainY = create_dataset(train, look_back)\n",
    "testX, testY = create_dataset(test, look_back)"
   ]
  },
  {
   "cell_type": "code",
   "execution_count": null,
   "metadata": {},
   "outputs": [],
   "source": []
  },
  {
   "cell_type": "code",
   "execution_count": 9,
   "metadata": {},
   "outputs": [],
   "source": [
    "# reshape input to be [samples, time steps, features]\n",
    "trainX = numpy.reshape(trainX, (trainX.shape[0], 1, trainX.shape[1]))\n",
    "testX = numpy.reshape(testX, (testX.shape[0], 1, testX.shape[1]))"
   ]
  },
  {
   "cell_type": "code",
   "execution_count": 13,
   "metadata": {},
   "outputs": [
    {
     "data": {
      "text/plain": [
       "1"
      ]
     },
     "execution_count": 13,
     "metadata": {},
     "output_type": "execute_result"
    }
   ],
   "source": []
  },
  {
   "cell_type": "code",
   "execution_count": 14,
   "metadata": {},
   "outputs": [
    {
     "name": "stdout",
     "output_type": "stream",
     "text": [
      "Epoch 1/100\n",
      " - 0s - loss: 0.0630\n",
      "Epoch 2/100\n",
      " - 0s - loss: 0.0607\n",
      "Epoch 3/100\n",
      " - 0s - loss: 0.0586\n",
      "Epoch 4/100\n",
      " - 0s - loss: 0.0565\n",
      "Epoch 5/100\n",
      " - 0s - loss: 0.0544\n",
      "Epoch 6/100\n",
      " - 0s - loss: 0.0525\n",
      "Epoch 7/100\n",
      " - 0s - loss: 0.0505\n",
      "Epoch 8/100\n",
      " - 0s - loss: 0.0487\n",
      "Epoch 9/100\n",
      " - 0s - loss: 0.0468\n",
      "Epoch 10/100\n",
      " - 0s - loss: 0.0450\n",
      "Epoch 11/100\n",
      " - 0s - loss: 0.0433\n",
      "Epoch 12/100\n",
      " - 0s - loss: 0.0417\n",
      "Epoch 13/100\n",
      " - 0s - loss: 0.0401\n",
      "Epoch 14/100\n",
      " - 0s - loss: 0.0386\n",
      "Epoch 15/100\n",
      " - 0s - loss: 0.0371\n",
      "Epoch 16/100\n",
      " - 0s - loss: 0.0357\n",
      "Epoch 17/100\n",
      " - 0s - loss: 0.0343\n",
      "Epoch 18/100\n",
      " - 0s - loss: 0.0330\n",
      "Epoch 19/100\n",
      " - 0s - loss: 0.0318\n",
      "Epoch 20/100\n",
      " - 0s - loss: 0.0306\n",
      "Epoch 21/100\n",
      " - 0s - loss: 0.0294\n",
      "Epoch 22/100\n",
      " - 0s - loss: 0.0284\n",
      "Epoch 23/100\n",
      " - 0s - loss: 0.0274\n",
      "Epoch 24/100\n",
      " - 0s - loss: 0.0264\n",
      "Epoch 25/100\n",
      " - 0s - loss: 0.0255\n",
      "Epoch 26/100\n",
      " - 0s - loss: 0.0245\n",
      "Epoch 27/100\n",
      " - 0s - loss: 0.0237\n",
      "Epoch 28/100\n",
      " - 0s - loss: 0.0229\n",
      "Epoch 29/100\n",
      " - 0s - loss: 0.0222\n",
      "Epoch 30/100\n",
      " - 0s - loss: 0.0215\n",
      "Epoch 31/100\n",
      " - 0s - loss: 0.0208\n",
      "Epoch 32/100\n",
      " - 0s - loss: 0.0203\n",
      "Epoch 33/100\n",
      " - 0s - loss: 0.0197\n",
      "Epoch 34/100\n",
      " - 0s - loss: 0.0192\n",
      "Epoch 35/100\n",
      " - 0s - loss: 0.0186\n",
      "Epoch 36/100\n",
      " - 0s - loss: 0.0182\n",
      "Epoch 37/100\n",
      " - 0s - loss: 0.0177\n",
      "Epoch 38/100\n",
      " - 0s - loss: 0.0173\n",
      "Epoch 39/100\n",
      " - 0s - loss: 0.0169\n",
      "Epoch 40/100\n",
      " - 0s - loss: 0.0165\n",
      "Epoch 41/100\n",
      " - 0s - loss: 0.0162\n",
      "Epoch 42/100\n",
      " - 0s - loss: 0.0159\n",
      "Epoch 43/100\n",
      " - 0s - loss: 0.0156\n",
      "Epoch 44/100\n",
      " - 0s - loss: 0.0153\n",
      "Epoch 45/100\n",
      " - 0s - loss: 0.0151\n",
      "Epoch 46/100\n",
      " - 0s - loss: 0.0149\n",
      "Epoch 47/100\n",
      " - 0s - loss: 0.0147\n",
      "Epoch 48/100\n",
      " - 0s - loss: 0.0145\n",
      "Epoch 49/100\n",
      " - 0s - loss: 0.0143\n",
      "Epoch 50/100\n",
      " - 0s - loss: 0.0141\n",
      "Epoch 51/100\n",
      " - 0s - loss: 0.0140\n",
      "Epoch 52/100\n",
      " - 0s - loss: 0.0139\n",
      "Epoch 53/100\n",
      " - 0s - loss: 0.0137\n",
      "Epoch 54/100\n",
      " - 0s - loss: 0.0136\n",
      "Epoch 55/100\n",
      " - 0s - loss: 0.0135\n",
      "Epoch 56/100\n",
      " - 0s - loss: 0.0134\n",
      "Epoch 57/100\n",
      " - 0s - loss: 0.0133\n",
      "Epoch 58/100\n",
      " - 0s - loss: 0.0132\n",
      "Epoch 59/100\n",
      " - 0s - loss: 0.0131\n",
      "Epoch 60/100\n",
      " - 0s - loss: 0.0130\n",
      "Epoch 61/100\n",
      " - 0s - loss: 0.0129\n",
      "Epoch 62/100\n",
      " - 0s - loss: 0.0129\n",
      "Epoch 63/100\n",
      " - 0s - loss: 0.0128\n",
      "Epoch 64/100\n",
      " - 0s - loss: 0.0127\n",
      "Epoch 65/100\n",
      " - 0s - loss: 0.0126\n",
      "Epoch 66/100\n",
      " - 0s - loss: 0.0126\n",
      "Epoch 67/100\n",
      " - 0s - loss: 0.0125\n",
      "Epoch 68/100\n",
      " - 0s - loss: 0.0124\n",
      "Epoch 69/100\n",
      " - 0s - loss: 0.0124\n",
      "Epoch 70/100\n",
      " - 0s - loss: 0.0123\n",
      "Epoch 71/100\n",
      " - 0s - loss: 0.0122\n",
      "Epoch 72/100\n",
      " - 0s - loss: 0.0122\n",
      "Epoch 73/100\n",
      " - 0s - loss: 0.0121\n",
      "Epoch 74/100\n",
      " - 0s - loss: 0.0121\n",
      "Epoch 75/100\n",
      " - 0s - loss: 0.0120\n",
      "Epoch 76/100\n",
      " - 0s - loss: 0.0119\n",
      "Epoch 77/100\n",
      " - 0s - loss: 0.0119\n",
      "Epoch 78/100\n",
      " - 0s - loss: 0.0118\n",
      "Epoch 79/100\n",
      " - 0s - loss: 0.0117\n",
      "Epoch 80/100\n",
      " - 0s - loss: 0.0117\n",
      "Epoch 81/100\n",
      " - 0s - loss: 0.0116\n",
      "Epoch 82/100\n",
      " - 0s - loss: 0.0116\n",
      "Epoch 83/100\n",
      " - 0s - loss: 0.0115\n",
      "Epoch 84/100\n",
      " - 0s - loss: 0.0114\n",
      "Epoch 85/100\n",
      " - 0s - loss: 0.0114\n",
      "Epoch 86/100\n",
      " - 0s - loss: 0.0113\n",
      "Epoch 87/100\n",
      " - 0s - loss: 0.0112\n",
      "Epoch 88/100\n",
      " - 0s - loss: 0.0112\n",
      "Epoch 89/100\n",
      " - 0s - loss: 0.0111\n",
      "Epoch 90/100\n",
      " - 0s - loss: 0.0111\n",
      "Epoch 91/100\n",
      " - 0s - loss: 0.0110\n",
      "Epoch 92/100\n",
      " - 0s - loss: 0.0109\n",
      "Epoch 93/100\n",
      " - 0s - loss: 0.0109\n",
      "Epoch 94/100\n",
      " - 0s - loss: 0.0108\n",
      "Epoch 95/100\n",
      " - 0s - loss: 0.0107\n",
      "Epoch 96/100\n",
      " - 0s - loss: 0.0107\n",
      "Epoch 97/100\n",
      " - 0s - loss: 0.0106\n",
      "Epoch 98/100\n",
      " - 0s - loss: 0.0105\n",
      "Epoch 99/100\n",
      " - 0s - loss: 0.0105\n",
      "Epoch 100/100\n",
      " - 0s - loss: 0.0104\n"
     ]
    }
   ],
   "source": [
    "# create and fit the LSTM network\n",
    "model = Sequential()\n",
    "model.add(LSTM(4, input_shape=(1, look_back)))\n",
    "model.add(Dense(1))\n",
    "model.compile(loss='mean_squared_error', optimizer='adam')\n",
    "hist=model.fit(trainX, trainY, epochs=100, batch_size=1, verbose=2,)"
   ]
  },
  {
   "cell_type": "code",
   "execution_count": 15,
   "metadata": {},
   "outputs": [
    {
     "data": {
      "text/plain": [
       "[<matplotlib.lines.Line2D at 0x200fa8c1898>]"
      ]
     },
     "execution_count": 15,
     "metadata": {},
     "output_type": "execute_result"
    },
    {
     "data": {
      "image/png": "[encoded data removed]",
      "text/plain": [
       "<Figure size 432x288 with 1 Axes>"
      ]
     },
     "metadata": {
      "needs_background": "light"
     },
     "output_type": "display_data"
    }
   ],
   "source": [
    "plt.plot(hist.history[\"loss\"])"
   ]
  },
  {
   "cell_type": "code",
   "execution_count": null,
   "metadata": {},
   "outputs": [],
   "source": []
  }
 ],
 "metadata": {
  "kernelspec": {
   "display_name": "Python 3",
   "language": "python",
   "name": "python3"
  },
  "language_info": {
   "codemirror_mode": {
    "name": "ipython",
    "version": 3
   },
   "file_extension": ".py",
   "mimetype": "text/x-python",
   "name": "python",
   "nbconvert_exporter": "python",
   "pygments_lexer": "ipython3",
   "version": "3.6.7"
  }
 },
 "nbformat": 4,
 "nbformat_minor": 2
}
