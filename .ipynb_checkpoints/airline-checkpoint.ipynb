{
 "cells": [
  {
   "cell_type": "code",
   "execution_count": 156,
   "metadata": {},
   "outputs": [
    {
     "data": {
      "text/plain": [
       "['.git',\n",
       " '.ipynb_checkpoints',\n",
       " 'airline-passengers.csv',\n",
       " 'airline.ipynb',\n",
       " 'Untitled.ipynb']"
      ]
     },
     "execution_count": 156,
     "metadata": {},
     "output_type": "execute_result"
    }
   ],
   "source": [
    "import os\n",
    "os.listdir()"
   ]
  },
  {
   "cell_type": "code",
   "execution_count": 157,
   "metadata": {},
   "outputs": [],
   "source": [
    "import pandas as pd\n",
    "import numpy as np\n",
    "from keras.models import Sequential\n",
    "from keras.layers import LSTM\n",
    "from keras.layers import Dense\n",
    "import matplotlib.pyplot as plt\n",
    "from sklearn.model_selection import train_test_split\n",
    "from sklearn.preprocessing import MinMaxScaler\n"
   ]
  },
  {
   "cell_type": "code",
   "execution_count": 158,
   "metadata": {},
   "outputs": [
    {
     "data": {
      "text/html": [
       "<div>\n",
       "<style scoped>\n",
       "    .dataframe tbody tr th:only-of-type {\n",
       "        vertical-align: middle;\n",
       "    }\n",
       "\n",
       "    .dataframe tbody tr th {\n",
       "        vertical-align: top;\n",
       "    }\n",
       "\n",
       "    .dataframe thead th {\n",
       "        text-align: right;\n",
       "    }\n",
       "</style>\n",
       "<table border=\"1\" class=\"dataframe\">\n",
       "  <thead>\n",
       "    <tr style=\"text-align: right;\">\n",
       "      <th></th>\n",
       "      <th>Month</th>\n",
       "      <th>Passengers</th>\n",
       "    </tr>\n",
       "  </thead>\n",
       "  <tbody>\n",
       "    <tr>\n",
       "      <td>0</td>\n",
       "      <td>1949-01-01</td>\n",
       "      <td>112</td>\n",
       "    </tr>\n",
       "    <tr>\n",
       "      <td>1</td>\n",
       "      <td>1949-02-01</td>\n",
       "      <td>118</td>\n",
       "    </tr>\n",
       "    <tr>\n",
       "      <td>2</td>\n",
       "      <td>1949-03-01</td>\n",
       "      <td>132</td>\n",
       "    </tr>\n",
       "    <tr>\n",
       "      <td>3</td>\n",
       "      <td>1949-04-01</td>\n",
       "      <td>129</td>\n",
       "    </tr>\n",
       "    <tr>\n",
       "      <td>4</td>\n",
       "      <td>1949-05-01</td>\n",
       "      <td>121</td>\n",
       "    </tr>\n",
       "  </tbody>\n",
       "</table>\n",
       "</div>"
      ],
      "text/plain": [
       "       Month  Passengers\n",
       "0 1949-01-01         112\n",
       "1 1949-02-01         118\n",
       "2 1949-03-01         132\n",
       "3 1949-04-01         129\n",
       "4 1949-05-01         121"
      ]
     },
     "execution_count": 158,
     "metadata": {},
     "output_type": "execute_result"
    }
   ],
   "source": [
    "data=pd.read_csv('airline-passengers.csv',parse_dates=[\"Month\"])\n",
    "data.head()"
   ]
  },
  {
   "cell_type": "code",
   "execution_count": 159,
   "metadata": {},
   "outputs": [],
   "source": [
    "timegap=[[(data[\"Month\"][i]-data[\"Month\"][0]).days] for i in range(1,data.shape[0])]"
   ]
  },
  {
   "cell_type": "code",
   "execution_count": 160,
   "metadata": {},
   "outputs": [],
   "source": [
    "timegap.insert(0,[0])"
   ]
  },
  {
   "cell_type": "code",
   "execution_count": 161,
   "metadata": {},
   "outputs": [],
   "source": [
    "new_data={\"timegap\":timegap,\n",
    "         \"Passengers\":data[\"Passengers\"],\n",
    "        }"
   ]
  },
  {
   "cell_type": "code",
   "execution_count": 162,
   "metadata": {},
   "outputs": [],
   "source": [
    "X=[]\n",
    "Y=[]\n",
    "for i in range(data.shape[0]-1):\n",
    "    X.append(int(data[\"Passengers\"][i:i+1]))\n",
    "    Y.append(data[\"Passengers\"][i+1])\n"
   ]
  },
  {
   "cell_type": "code",
   "execution_count": 163,
   "metadata": {},
   "outputs": [],
   "source": [
    "scaler=MinMaxScaler(feature_range=(0,1))\n",
    "X=scaler.fit_transform([X])\n",
    "Y=scaler.fit_transform([Y])"
   ]
  },
  {
   "cell_type": "code",
   "execution_count": 170,
   "metadata": {},
   "outputs": [
    {
     "ename": "AttributeError",
     "evalue": "'numpy.ndarray' object has no attribute 'unique'",
     "output_type": "error",
     "traceback": [
      "\u001b[1;31m---------------------------------------------------------------------------\u001b[0m",
      "\u001b[1;31mAttributeError\u001b[0m                            Traceback (most recent call last)",
      "\u001b[1;32m<ipython-input-170-b7ea5aedf2db>\u001b[0m in \u001b[0;36m<module>\u001b[1;34m\u001b[0m\n\u001b[1;32m----> 1\u001b[1;33m \u001b[0mX\u001b[0m\u001b[1;33m[\u001b[0m\u001b[1;36m0\u001b[0m\u001b[1;33m]\u001b[0m\u001b[1;33m.\u001b[0m\u001b[0munique\u001b[0m\u001b[1;33m\u001b[0m\u001b[1;33m\u001b[0m\u001b[0m\n\u001b[0m",
      "\u001b[1;31mAttributeError\u001b[0m: 'numpy.ndarray' object has no attribute 'unique'"
     ]
    }
   ],
   "source": [
    "dd"
   ]
  },
  {
   "cell_type": "code",
   "execution_count": 107,
   "metadata": {},
   "outputs": [
    {
     "data": {
      "text/plain": [
       "((143,), (143,))"
      ]
     },
     "execution_count": 107,
     "metadata": {},
     "output_type": "execute_result"
    }
   ],
   "source": [
    "X=np.array(X)\n",
    "Y=np.array(Y)\n",
    "X=X\n",
    "Y=Y\n",
    "X.shape,Y.shape"
   ]
  },
  {
   "cell_type": "code",
   "execution_count": 108,
   "metadata": {},
   "outputs": [],
   "source": [
    "X=np.reshape(X,(143,1,1))\n",
    "Y=np.reshape(Y,(143,1))"
   ]
  },
  {
   "cell_type": "code",
   "execution_count": 109,
   "metadata": {},
   "outputs": [],
   "source": [
    "x_train,x_test,y_train,y_test=train_test_split(X,Y,test_size=0.4)"
   ]
  },
  {
   "cell_type": "code",
   "execution_count": 110,
   "metadata": {},
   "outputs": [
    {
     "data": {
      "text/plain": [
       "[<matplotlib.lines.Line2D at 0x238598ad278>]"
      ]
     },
     "execution_count": 110,
     "metadata": {},
     "output_type": "execute_result"
    },
    {
     "data": {
      "image/png": "[encoded data removed]",
      "text/plain": [
       "<Figure size 432x288 with 1 Axes>"
      ]
     },
     "metadata": {
      "needs_background": "light"
     },
     "output_type": "display_data"
    }
   ],
   "source": [
    "plt.plot(timegap,data[\"Passengers\"])"
   ]
  },
  {
   "cell_type": "code",
   "execution_count": 112,
   "metadata": {},
   "outputs": [],
   "source": [
    "model=Sequential()\n",
    "model.add(LSTM((1),batch_input_shape=(None,None,1),return_sequences=False))"
   ]
  },
  {
   "cell_type": "code",
   "execution_count": 113,
   "metadata": {},
   "outputs": [],
   "source": [
    "model.compile(loss='mean_absolute_error',optimizer='adam',metrics=['accuracy'])"
   ]
  },
  {
   "cell_type": "code",
   "execution_count": 114,
   "metadata": {},
   "outputs": [
    {
     "name": "stdout",
     "output_type": "stream",
     "text": [
      "Model: \"sequential_4\"\n",
      "_________________________________________________________________\n",
      "Layer (type)                 Output Shape              Param #   \n",
      "=================================================================\n",
      "lstm_4 (LSTM)                (None, 1)                 12        \n",
      "=================================================================\n",
      "Total params: 12\n",
      "Trainable params: 12\n",
      "Non-trainable params: 0\n",
      "_________________________________________________________________\n"
     ]
    }
   ],
   "source": [
    "model.summary(\n",
    ")"
   ]
  },
  {
   "cell_type": "code",
   "execution_count": 115,
   "metadata": {},
   "outputs": [
    {
     "name": "stdout",
     "output_type": "stream",
     "text": [
      "Train on 85 samples, validate on 58 samples\n",
      "Epoch 1/200\n",
      "85/85 [==============================] - 0s 3ms/step - loss: 2.1731 - accuracy: 0.0000e+00 - val_loss: 2.1467 - val_accuracy: 0.0000e+00\n",
      "Epoch 2/200\n",
      "85/85 [==============================] - 0s 82us/step - loss: 2.1710 - accuracy: 0.0000e+00 - val_loss: 2.1446 - val_accuracy: 0.0000e+00\n",
      "Epoch 3/200\n",
      "85/85 [==============================] - 0s 94us/step - loss: 2.1688 - accuracy: 0.0000e+00 - val_loss: 2.1424 - val_accuracy: 0.0000e+00\n",
      "Epoch 4/200\n",
      "85/85 [==============================] - 0s 82us/step - loss: 2.1666 - accuracy: 0.0000e+00 - val_loss: 2.1403 - val_accuracy: 0.0000e+00\n",
      "Epoch 5/200\n",
      "85/85 [==============================] - 0s 93us/step - loss: 2.1645 - accuracy: 0.0000e+00 - val_loss: 2.1382 - val_accuracy: 0.0000e+00\n",
      "Epoch 6/200\n",
      "85/85 [==============================] - 0s 82us/step - loss: 2.1624 - accuracy: 0.0000e+00 - val_loss: 2.1361 - val_accuracy: 0.0000e+00\n",
      "Epoch 7/200\n",
      "85/85 [==============================] - 0s 106us/step - loss: 2.1602 - accuracy: 0.0000e+00 - val_loss: 2.1339 - val_accuracy: 0.0000e+00\n",
      "Epoch 8/200\n",
      "85/85 [==============================] - 0s 82us/step - loss: 2.1581 - accuracy: 0.0000e+00 - val_loss: 2.1318 - val_accuracy: 0.0000e+00\n",
      "Epoch 9/200\n",
      "85/85 [==============================] - 0s 94us/step - loss: 2.1560 - accuracy: 0.0000e+00 - val_loss: 2.1297 - val_accuracy: 0.0000e+00\n",
      "Epoch 10/200\n",
      "85/85 [==============================] - 0s 94us/step - loss: 2.1538 - accuracy: 0.0000e+00 - val_loss: 2.1276 - val_accuracy: 0.0000e+00\n",
      "Epoch 11/200\n",
      "85/85 [==============================] - 0s 94us/step - loss: 2.1517 - accuracy: 0.0000e+00 - val_loss: 2.1254 - val_accuracy: 0.0000e+00\n",
      "Epoch 12/200\n",
      "85/85 [==============================] - 0s 82us/step - loss: 2.1496 - accuracy: 0.0000e+00 - val_loss: 2.1233 - val_accuracy: 0.0000e+00\n",
      "Epoch 13/200\n",
      "85/85 [==============================] - 0s 94us/step - loss: 2.1474 - accuracy: 0.0000e+00 - val_loss: 2.1212 - val_accuracy: 0.0000e+00\n",
      "Epoch 14/200\n",
      "85/85 [==============================] - 0s 94us/step - loss: 2.1453 - accuracy: 0.0000e+00 - val_loss: 2.1191 - val_accuracy: 0.0000e+00\n",
      "Epoch 15/200\n",
      "85/85 [==============================] - 0s 82us/step - loss: 2.1431 - accuracy: 0.0000e+00 - val_loss: 2.1170 - val_accuracy: 0.0000e+00\n",
      "Epoch 16/200\n",
      "85/85 [==============================] - 0s 94us/step - loss: 2.1410 - accuracy: 0.0000e+00 - val_loss: 2.1149 - val_accuracy: 0.0000e+00\n",
      "Epoch 17/200\n",
      "85/85 [==============================] - 0s 82us/step - loss: 2.1389 - accuracy: 0.0000e+00 - val_loss: 2.1128 - val_accuracy: 0.0000e+00\n",
      "Epoch 18/200\n",
      "85/85 [==============================] - 0s 94us/step - loss: 2.1368 - accuracy: 0.0000e+00 - val_loss: 2.1107 - val_accuracy: 0.0000e+00\n",
      "Epoch 19/200\n",
      "85/85 [==============================] - 0s 94us/step - loss: 2.1347 - accuracy: 0.0000e+00 - val_loss: 2.1086 - val_accuracy: 0.0000e+00\n",
      "Epoch 20/200\n",
      "85/85 [==============================] - 0s 82us/step - loss: 2.1325 - accuracy: 0.0000e+00 - val_loss: 2.1065 - val_accuracy: 0.0000e+00\n",
      "Epoch 21/200\n",
      "85/85 [==============================] - 0s 94us/step - loss: 2.1304 - accuracy: 0.0000e+00 - val_loss: 2.1044 - val_accuracy: 0.0000e+00\n",
      "Epoch 22/200\n",
      "85/85 [==============================] - 0s 94us/step - loss: 2.1283 - accuracy: 0.0000e+00 - val_loss: 2.1023 - val_accuracy: 0.0000e+00\n",
      "Epoch 23/200\n",
      "85/85 [==============================] - 0s 94us/step - loss: 2.1262 - accuracy: 0.0000e+00 - val_loss: 2.1002 - val_accuracy: 0.0000e+00\n",
      "Epoch 24/200\n",
      "85/85 [==============================] - 0s 93us/step - loss: 2.1241 - accuracy: 0.0000e+00 - val_loss: 2.0981 - val_accuracy: 0.0000e+00\n",
      "Epoch 25/200\n",
      "85/85 [==============================] - 0s 94us/step - loss: 2.1220 - accuracy: 0.0000e+00 - val_loss: 2.0960 - val_accuracy: 0.0000e+00\n",
      "Epoch 26/200\n",
      "85/85 [==============================] - 0s 105us/step - loss: 2.1199 - accuracy: 0.0000e+00 - val_loss: 2.0939 - val_accuracy: 0.0000e+00\n",
      "Epoch 27/200\n",
      "85/85 [==============================] - 0s 94us/step - loss: 2.1178 - accuracy: 0.0000e+00 - val_loss: 2.0919 - val_accuracy: 0.0000e+00\n",
      "Epoch 28/200\n",
      "85/85 [==============================] - 0s 94us/step - loss: 2.1157 - accuracy: 0.0000e+00 - val_loss: 2.0898 - val_accuracy: 0.0000e+00\n",
      "Epoch 29/200\n",
      "85/85 [==============================] - 0s 93us/step - loss: 2.1137 - accuracy: 0.0000e+00 - val_loss: 2.0877 - val_accuracy: 0.0000e+00\n",
      "Epoch 30/200\n",
      "85/85 [==============================] - 0s 82us/step - loss: 2.1116 - accuracy: 0.0000e+00 - val_loss: 2.0857 - val_accuracy: 0.0000e+00\n",
      "Epoch 31/200\n",
      "85/85 [==============================] - 0s 94us/step - loss: 2.1095 - accuracy: 0.0000e+00 - val_loss: 2.0836 - val_accuracy: 0.0000e+00\n",
      "Epoch 32/200\n",
      "85/85 [==============================] - 0s 94us/step - loss: 2.1075 - accuracy: 0.0000e+00 - val_loss: 2.0816 - val_accuracy: 0.0000e+00\n",
      "Epoch 33/200\n",
      "85/85 [==============================] - 0s 94us/step - loss: 2.1054 - accuracy: 0.0000e+00 - val_loss: 2.0796 - val_accuracy: 0.0000e+00\n",
      "Epoch 34/200\n",
      "85/85 [==============================] - 0s 93us/step - loss: 2.1034 - accuracy: 0.0000e+00 - val_loss: 2.0775 - val_accuracy: 0.0000e+00\n",
      "Epoch 35/200\n",
      "85/85 [==============================] - 0s 94us/step - loss: 2.1013 - accuracy: 0.0000e+00 - val_loss: 2.0755 - val_accuracy: 0.0000e+00\n",
      "Epoch 36/200\n",
      "85/85 [==============================] - 0s 94us/step - loss: 2.0993 - accuracy: 0.0000e+00 - val_loss: 2.0735 - val_accuracy: 0.0000e+00\n",
      "Epoch 37/200\n",
      "85/85 [==============================] - 0s 94us/step - loss: 2.0972 - accuracy: 0.0000e+00 - val_loss: 2.0715 - val_accuracy: 0.0000e+00\n",
      "Epoch 38/200\n",
      "85/85 [==============================] - 0s 82us/step - loss: 2.0952 - accuracy: 0.0000e+00 - val_loss: 2.0695 - val_accuracy: 0.0000e+00\n",
      "Epoch 39/200\n",
      "85/85 [==============================] - 0s 106us/step - loss: 2.0932 - accuracy: 0.0000e+00 - val_loss: 2.0675 - val_accuracy: 0.0000e+00\n",
      "Epoch 40/200\n",
      "85/85 [==============================] - 0s 94us/step - loss: 2.0912 - accuracy: 0.0000e+00 - val_loss: 2.0655 - val_accuracy: 0.0000e+00\n",
      "Epoch 41/200\n",
      "85/85 [==============================] - 0s 82us/step - loss: 2.0892 - accuracy: 0.0000e+00 - val_loss: 2.0635 - val_accuracy: 0.0000e+00\n",
      "Epoch 42/200\n",
      "85/85 [==============================] - 0s 94us/step - loss: 2.0872 - accuracy: 0.0000e+00 - val_loss: 2.0615 - val_accuracy: 0.0000e+00\n",
      "Epoch 43/200\n",
      "85/85 [==============================] - 0s 94us/step - loss: 2.0852 - accuracy: 0.0000e+00 - val_loss: 2.0595 - val_accuracy: 0.0000e+00\n",
      "Epoch 44/200\n",
      "85/85 [==============================] - 0s 82us/step - loss: 2.0832 - accuracy: 0.0000e+00 - val_loss: 2.0576 - val_accuracy: 0.0000e+00\n",
      "Epoch 45/200\n",
      "85/85 [==============================] - 0s 82us/step - loss: 2.0813 - accuracy: 0.0000e+00 - val_loss: 2.0556 - val_accuracy: 0.0000e+00\n",
      "Epoch 46/200\n",
      "85/85 [==============================] - 0s 82us/step - loss: 2.0793 - accuracy: 0.0000e+00 - val_loss: 2.0537 - val_accuracy: 0.0000e+00\n",
      "Epoch 47/200\n",
      "85/85 [==============================] - 0s 94us/step - loss: 2.0773 - accuracy: 0.0000e+00 - val_loss: 2.0517 - val_accuracy: 0.0000e+00\n",
      "Epoch 48/200\n",
      "85/85 [==============================] - 0s 94us/step - loss: 2.0754 - accuracy: 0.0000e+00 - val_loss: 2.0498 - val_accuracy: 0.0000e+00\n",
      "Epoch 49/200\n",
      "85/85 [==============================] - 0s 94us/step - loss: 2.0735 - accuracy: 0.0000e+00 - val_loss: 2.0479 - val_accuracy: 0.0000e+00\n",
      "Epoch 50/200\n",
      "85/85 [==============================] - 0s 94us/step - loss: 2.0715 - accuracy: 0.0000e+00 - val_loss: 2.0460 - val_accuracy: 0.0000e+00\n",
      "Epoch 51/200\n",
      "85/85 [==============================] - 0s 94us/step - loss: 2.0696 - accuracy: 0.0000e+00 - val_loss: 2.0440 - val_accuracy: 0.0000e+00\n",
      "Epoch 52/200\n",
      "85/85 [==============================] - 0s 94us/step - loss: 2.0677 - accuracy: 0.0000e+00 - val_loss: 2.0421 - val_accuracy: 0.0000e+00\n",
      "Epoch 53/200\n",
      "85/85 [==============================] - 0s 94us/step - loss: 2.0658 - accuracy: 0.0000e+00 - val_loss: 2.0402 - val_accuracy: 0.0000e+00\n",
      "Epoch 54/200\n",
      "85/85 [==============================] - 0s 93us/step - loss: 2.0638 - accuracy: 0.0000e+00 - val_loss: 2.0384 - val_accuracy: 0.0000e+00\n",
      "Epoch 55/200\n"
     ]
    },
    {
     "name": "stdout",
     "output_type": "stream",
     "text": [
      "85/85 [==============================] - 0s 93us/step - loss: 2.0620 - accuracy: 0.0000e+00 - val_loss: 2.0365 - val_accuracy: 0.0000e+00\n",
      "Epoch 56/200\n",
      "85/85 [==============================] - 0s 94us/step - loss: 2.0601 - accuracy: 0.0000e+00 - val_loss: 2.0346 - val_accuracy: 0.0000e+00\n",
      "Epoch 57/200\n",
      "85/85 [==============================] - 0s 94us/step - loss: 2.0582 - accuracy: 0.0000e+00 - val_loss: 2.0328 - val_accuracy: 0.0000e+00\n",
      "Epoch 58/200\n",
      "85/85 [==============================] - 0s 82us/step - loss: 2.0563 - accuracy: 0.0000e+00 - val_loss: 2.0309 - val_accuracy: 0.0000e+00\n",
      "Epoch 59/200\n",
      "85/85 [==============================] - 0s 94us/step - loss: 2.0545 - accuracy: 0.0000e+00 - val_loss: 2.0291 - val_accuracy: 0.0000e+00\n",
      "Epoch 60/200\n",
      "85/85 [==============================] - 0s 94us/step - loss: 2.0526 - accuracy: 0.0000e+00 - val_loss: 2.0272 - val_accuracy: 0.0000e+00\n",
      "Epoch 61/200\n",
      "85/85 [==============================] - 0s 94us/step - loss: 2.0508 - accuracy: 0.0000e+00 - val_loss: 2.0254 - val_accuracy: 0.0000e+00\n",
      "Epoch 62/200\n",
      "85/85 [==============================] - 0s 94us/step - loss: 2.0490 - accuracy: 0.0000e+00 - val_loss: 2.0236 - val_accuracy: 0.0000e+00\n",
      "Epoch 63/200\n",
      "85/85 [==============================] - 0s 82us/step - loss: 2.0471 - accuracy: 0.0000e+00 - val_loss: 2.0218 - val_accuracy: 0.0000e+00\n",
      "Epoch 64/200\n",
      "85/85 [==============================] - 0s 94us/step - loss: 2.0453 - accuracy: 0.0000e+00 - val_loss: 2.0200 - val_accuracy: 0.0000e+00\n",
      "Epoch 65/200\n",
      "85/85 [==============================] - 0s 83us/step - loss: 2.0435 - accuracy: 0.0000e+00 - val_loss: 2.0182 - val_accuracy: 0.0000e+00\n",
      "Epoch 66/200\n",
      "85/85 [==============================] - 0s 105us/step - loss: 2.0417 - accuracy: 0.0000e+00 - val_loss: 2.0164 - val_accuracy: 0.0000e+00\n",
      "Epoch 67/200\n",
      "85/85 [==============================] - 0s 94us/step - loss: 2.0399 - accuracy: 0.0000e+00 - val_loss: 2.0147 - val_accuracy: 0.0000e+00\n",
      "Epoch 68/200\n",
      "85/85 [==============================] - 0s 105us/step - loss: 2.0382 - accuracy: 0.0000e+00 - val_loss: 2.0129 - val_accuracy: 0.0000e+00\n",
      "Epoch 69/200\n",
      "85/85 [==============================] - 0s 94us/step - loss: 2.0364 - accuracy: 0.0000e+00 - val_loss: 2.0111 - val_accuracy: 0.0000e+00\n",
      "Epoch 70/200\n",
      "85/85 [==============================] - 0s 94us/step - loss: 2.0346 - accuracy: 0.0000e+00 - val_loss: 2.0094 - val_accuracy: 0.0000e+00\n",
      "Epoch 71/200\n",
      "85/85 [==============================] - 0s 117us/step - loss: 2.0329 - accuracy: 0.0000e+00 - val_loss: 2.0077 - val_accuracy: 0.0000e+00\n",
      "Epoch 72/200\n",
      "85/85 [==============================] - 0s 106us/step - loss: 2.0312 - accuracy: 0.0000e+00 - val_loss: 2.0059 - val_accuracy: 0.0000e+00\n",
      "Epoch 73/200\n",
      "85/85 [==============================] - 0s 82us/step - loss: 2.0294 - accuracy: 0.0000e+00 - val_loss: 2.0042 - val_accuracy: 0.0000e+00\n",
      "Epoch 74/200\n",
      "85/85 [==============================] - 0s 82us/step - loss: 2.0277 - accuracy: 0.0000e+00 - val_loss: 2.0025 - val_accuracy: 0.0000e+00\n",
      "Epoch 75/200\n",
      "85/85 [==============================] - ETA: 0s - loss: 1.7995 - accuracy: 0.0000e+ - 0s 94us/step - loss: 2.0260 - accuracy: 0.0000e+00 - val_loss: 2.0008 - val_accuracy: 0.0000e+00\n",
      "Epoch 76/200\n",
      "85/85 [==============================] - 0s 94us/step - loss: 2.0243 - accuracy: 0.0000e+00 - val_loss: 1.9991 - val_accuracy: 0.0000e+00\n",
      "Epoch 77/200\n",
      "85/85 [==============================] - 0s 94us/step - loss: 2.0226 - accuracy: 0.0000e+00 - val_loss: 1.9974 - val_accuracy: 0.0000e+00\n",
      "Epoch 78/200\n",
      "85/85 [==============================] - 0s 106us/step - loss: 2.0209 - accuracy: 0.0000e+00 - val_loss: 1.9958 - val_accuracy: 0.0000e+00\n",
      "Epoch 79/200\n",
      "85/85 [==============================] - 0s 82us/step - loss: 2.0192 - accuracy: 0.0000e+00 - val_loss: 1.9941 - val_accuracy: 0.0000e+00\n",
      "Epoch 80/200\n",
      "85/85 [==============================] - 0s 94us/step - loss: 2.0176 - accuracy: 0.0000e+00 - val_loss: 1.9924 - val_accuracy: 0.0000e+00\n",
      "Epoch 81/200\n",
      "85/85 [==============================] - 0s 82us/step - loss: 2.0159 - accuracy: 0.0000e+00 - val_loss: 1.9908 - val_accuracy: 0.0000e+00\n",
      "Epoch 82/200\n",
      "85/85 [==============================] - 0s 94us/step - loss: 2.0142 - accuracy: 0.0000e+00 - val_loss: 1.9892 - val_accuracy: 0.0000e+00\n",
      "Epoch 83/200\n",
      "85/85 [==============================] - 0s 82us/step - loss: 2.0126 - accuracy: 0.0000e+00 - val_loss: 1.9875 - val_accuracy: 0.0000e+00\n",
      "Epoch 84/200\n",
      "85/85 [==============================] - 0s 94us/step - loss: 2.0110 - accuracy: 0.0000e+00 - val_loss: 1.9859 - val_accuracy: 0.0000e+00\n",
      "Epoch 85/200\n",
      "85/85 [==============================] - 0s 94us/step - loss: 2.0093 - accuracy: 0.0000e+00 - val_loss: 1.9843 - val_accuracy: 0.0000e+00\n",
      "Epoch 86/200\n",
      "85/85 [==============================] - 0s 82us/step - loss: 2.0077 - accuracy: 0.0000e+00 - val_loss: 1.9827 - val_accuracy: 0.0000e+00\n",
      "Epoch 87/200\n",
      "85/85 [==============================] - 0s 93us/step - loss: 2.0061 - accuracy: 0.0000e+00 - val_loss: 1.9811 - val_accuracy: 0.0000e+00\n",
      "Epoch 88/200\n",
      "85/85 [==============================] - 0s 82us/step - loss: 2.0045 - accuracy: 0.0000e+00 - val_loss: 1.9795 - val_accuracy: 0.0000e+00\n",
      "Epoch 89/200\n",
      "85/85 [==============================] - 0s 94us/step - loss: 2.0029 - accuracy: 0.0000e+00 - val_loss: 1.9780 - val_accuracy: 0.0000e+00\n",
      "Epoch 90/200\n",
      "85/85 [==============================] - 0s 94us/step - loss: 2.0014 - accuracy: 0.0000e+00 - val_loss: 1.9764 - val_accuracy: 0.0000e+00\n",
      "Epoch 91/200\n",
      "85/85 [==============================] - 0s 94us/step - loss: 1.9998 - accuracy: 0.0000e+00 - val_loss: 1.9748 - val_accuracy: 0.0000e+00\n",
      "Epoch 92/200\n",
      "85/85 [==============================] - 0s 94us/step - loss: 1.9982 - accuracy: 0.0000e+00 - val_loss: 1.9733 - val_accuracy: 0.0000e+00\n",
      "Epoch 93/200\n",
      "85/85 [==============================] - 0s 94us/step - loss: 1.9967 - accuracy: 0.0000e+00 - val_loss: 1.9717 - val_accuracy: 0.0000e+00\n",
      "Epoch 94/200\n",
      "85/85 [==============================] - 0s 94us/step - loss: 1.9951 - accuracy: 0.0000e+00 - val_loss: 1.9702 - val_accuracy: 0.0000e+00\n",
      "Epoch 95/200\n",
      "85/85 [==============================] - 0s 82us/step - loss: 1.9936 - accuracy: 0.0000e+00 - val_loss: 1.9687 - val_accuracy: 0.0000e+00\n",
      "Epoch 96/200\n",
      "85/85 [==============================] - 0s 94us/step - loss: 1.9920 - accuracy: 0.0000e+00 - val_loss: 1.9672 - val_accuracy: 0.0000e+00\n",
      "Epoch 97/200\n",
      "85/85 [==============================] - 0s 82us/step - loss: 1.9905 - accuracy: 0.0000e+00 - val_loss: 1.9656 - val_accuracy: 0.0000e+00\n",
      "Epoch 98/200\n",
      "85/85 [==============================] - 0s 94us/step - loss: 1.9890 - accuracy: 0.0000e+00 - val_loss: 1.9641 - val_accuracy: 0.0000e+00\n",
      "Epoch 99/200\n",
      "85/85 [==============================] - 0s 82us/step - loss: 1.9875 - accuracy: 0.0000e+00 - val_loss: 1.9627 - val_accuracy: 0.0000e+00\n",
      "Epoch 100/200\n",
      "85/85 [==============================] - 0s 106us/step - loss: 1.9860 - accuracy: 0.0000e+00 - val_loss: 1.9612 - val_accuracy: 0.0000e+00\n",
      "Epoch 101/200\n",
      "85/85 [==============================] - 0s 93us/step - loss: 1.9845 - accuracy: 0.0000e+00 - val_loss: 1.9597 - val_accuracy: 0.0000e+00\n",
      "Epoch 102/200\n",
      "85/85 [==============================] - 0s 94us/step - loss: 1.9830 - accuracy: 0.0000e+00 - val_loss: 1.9582 - val_accuracy: 0.0000e+00\n",
      "Epoch 103/200\n",
      "85/85 [==============================] - 0s 94us/step - loss: 1.9815 - accuracy: 0.0000e+00 - val_loss: 1.9568 - val_accuracy: 0.0000e+00\n",
      "Epoch 104/200\n",
      "85/85 [==============================] - 0s 82us/step - loss: 1.9801 - accuracy: 0.0000e+00 - val_loss: 1.9553 - val_accuracy: 0.0000e+00\n",
      "Epoch 105/200\n",
      "85/85 [==============================] - 0s 94us/step - loss: 1.9786 - accuracy: 0.0000e+00 - val_loss: 1.9538 - val_accuracy: 0.0000e+00\n",
      "Epoch 106/200\n",
      "85/85 [==============================] - 0s 93us/step - loss: 1.9771 - accuracy: 0.0000e+00 - val_loss: 1.9524 - val_accuracy: 0.0000e+00\n",
      "Epoch 107/200\n",
      "85/85 [==============================] - 0s 94us/step - loss: 1.9757 - accuracy: 0.0000e+00 - val_loss: 1.9510 - val_accuracy: 0.0000e+00\n",
      "Epoch 108/200\n",
      "85/85 [==============================] - 0s 80us/step - loss: 1.9743 - accuracy: 0.0000e+00 - val_loss: 1.9495 - val_accuracy: 0.0000e+00\n"
     ]
    },
    {
     "name": "stdout",
     "output_type": "stream",
     "text": [
      "Epoch 109/200\n",
      "85/85 [==============================] - 0s 94us/step - loss: 1.9728 - accuracy: 0.0000e+00 - val_loss: 1.9481 - val_accuracy: 0.0000e+00\n",
      "Epoch 110/200\n",
      "85/85 [==============================] - 0s 94us/step - loss: 1.9714 - accuracy: 0.0000e+00 - val_loss: 1.9467 - val_accuracy: 0.0000e+00\n",
      "Epoch 111/200\n",
      "85/85 [==============================] - 0s 82us/step - loss: 1.9700 - accuracy: 0.0000e+00 - val_loss: 1.9453 - val_accuracy: 0.0000e+00\n",
      "Epoch 112/200\n",
      "85/85 [==============================] - 0s 94us/step - loss: 1.9685 - accuracy: 0.0000e+00 - val_loss: 1.9439 - val_accuracy: 0.0000e+00\n",
      "Epoch 113/200\n",
      "85/85 [==============================] - 0s 94us/step - loss: 1.9671 - accuracy: 0.0000e+00 - val_loss: 1.9425 - val_accuracy: 0.0000e+00\n",
      "Epoch 114/200\n",
      "85/85 [==============================] - 0s 94us/step - loss: 1.9657 - accuracy: 0.0000e+00 - val_loss: 1.9411 - val_accuracy: 0.0000e+00\n",
      "Epoch 115/200\n",
      "85/85 [==============================] - 0s 105us/step - loss: 1.9643 - accuracy: 0.0000e+00 - val_loss: 1.9398 - val_accuracy: 0.0000e+00\n",
      "Epoch 116/200\n",
      "85/85 [==============================] - 0s 82us/step - loss: 1.9629 - accuracy: 0.0000e+00 - val_loss: 1.9384 - val_accuracy: 0.0000e+00\n",
      "Epoch 117/200\n",
      "85/85 [==============================] - 0s 106us/step - loss: 1.9616 - accuracy: 0.0000e+00 - val_loss: 1.9370 - val_accuracy: 0.0000e+00\n",
      "Epoch 118/200\n",
      "85/85 [==============================] - 0s 82us/step - loss: 1.9602 - accuracy: 0.0000e+00 - val_loss: 1.9356 - val_accuracy: 0.0000e+00\n",
      "Epoch 119/200\n",
      "85/85 [==============================] - 0s 97us/step - loss: 1.9588 - accuracy: 0.0000e+00 - val_loss: 1.9343 - val_accuracy: 0.0000e+00\n",
      "Epoch 120/200\n",
      "85/85 [==============================] - 0s 83us/step - loss: 1.9574 - accuracy: 0.0000e+00 - val_loss: 1.9329 - val_accuracy: 0.0000e+00\n",
      "Epoch 121/200\n",
      "85/85 [==============================] - 0s 82us/step - loss: 1.9561 - accuracy: 0.0000e+00 - val_loss: 1.9316 - val_accuracy: 0.0000e+00\n",
      "Epoch 122/200\n",
      "85/85 [==============================] - 0s 93us/step - loss: 1.9547 - accuracy: 0.0000e+00 - val_loss: 1.9303 - val_accuracy: 0.0000e+00\n",
      "Epoch 123/200\n",
      "85/85 [==============================] - 0s 82us/step - loss: 1.9534 - accuracy: 0.0000e+00 - val_loss: 1.9289 - val_accuracy: 0.0000e+00\n",
      "Epoch 124/200\n",
      "85/85 [==============================] - 0s 93us/step - loss: 1.9520 - accuracy: 0.0000e+00 - val_loss: 1.9276 - val_accuracy: 0.0000e+00\n",
      "Epoch 125/200\n",
      "85/85 [==============================] - 0s 93us/step - loss: 1.9507 - accuracy: 0.0000e+00 - val_loss: 1.9263 - val_accuracy: 0.0000e+00\n",
      "Epoch 126/200\n",
      "85/85 [==============================] - 0s 94us/step - loss: 1.9493 - accuracy: 0.0000e+00 - val_loss: 1.9250 - val_accuracy: 0.0000e+00\n",
      "Epoch 127/200\n",
      "85/85 [==============================] - 0s 82us/step - loss: 1.9480 - accuracy: 0.0000e+00 - val_loss: 1.9237 - val_accuracy: 0.0000e+00\n",
      "Epoch 128/200\n",
      "85/85 [==============================] - 0s 94us/step - loss: 1.9467 - accuracy: 0.0000e+00 - val_loss: 1.9224 - val_accuracy: 0.0000e+00\n",
      "Epoch 129/200\n",
      "85/85 [==============================] - 0s 82us/step - loss: 1.9454 - accuracy: 0.0000e+00 - val_loss: 1.9211 - val_accuracy: 0.0000e+00\n",
      "Epoch 130/200\n",
      "85/85 [==============================] - 0s 94us/step - loss: 1.9441 - accuracy: 0.0000e+00 - val_loss: 1.9198 - val_accuracy: 0.0000e+00\n",
      "Epoch 131/200\n",
      "85/85 [==============================] - 0s 93us/step - loss: 1.9428 - accuracy: 0.0000e+00 - val_loss: 1.9185 - val_accuracy: 0.0000e+00\n",
      "Epoch 132/200\n",
      "85/85 [==============================] - 0s 93us/step - loss: 1.9414 - accuracy: 0.0000e+00 - val_loss: 1.9172 - val_accuracy: 0.0000e+00\n",
      "Epoch 133/200\n",
      "85/85 [==============================] - 0s 82us/step - loss: 1.9402 - accuracy: 0.0000e+00 - val_loss: 1.9159 - val_accuracy: 0.0000e+00\n",
      "Epoch 134/200\n",
      "85/85 [==============================] - 0s 94us/step - loss: 1.9389 - accuracy: 0.0000e+00 - val_loss: 1.9147 - val_accuracy: 0.0000e+00\n",
      "Epoch 135/200\n",
      "85/85 [==============================] - ETA: 0s - loss: 2.0461 - accuracy: 0.0000e+ - 0s 93us/step - loss: 1.9376 - accuracy: 0.0000e+00 - val_loss: 1.9134 - val_accuracy: 0.0000e+00\n",
      "Epoch 136/200\n",
      "85/85 [==============================] - 0s 82us/step - loss: 1.9363 - accuracy: 0.0000e+00 - val_loss: 1.9121 - val_accuracy: 0.0000e+00\n",
      "Epoch 137/200\n",
      "85/85 [==============================] - 0s 94us/step - loss: 1.9350 - accuracy: 0.0000e+00 - val_loss: 1.9109 - val_accuracy: 0.0000e+00\n",
      "Epoch 138/200\n",
      "85/85 [==============================] - 0s 82us/step - loss: 1.9337 - accuracy: 0.0000e+00 - val_loss: 1.9096 - val_accuracy: 0.0000e+00\n",
      "Epoch 139/200\n",
      "85/85 [==============================] - 0s 94us/step - loss: 1.9324 - accuracy: 0.0000e+00 - val_loss: 1.9084 - val_accuracy: 0.0000e+00\n",
      "Epoch 140/200\n",
      "85/85 [==============================] - 0s 82us/step - loss: 1.9312 - accuracy: 0.0000e+00 - val_loss: 1.9071 - val_accuracy: 0.0000e+00\n",
      "Epoch 141/200\n",
      "85/85 [==============================] - 0s 82us/step - loss: 1.9299 - accuracy: 0.0000e+00 - val_loss: 1.9059 - val_accuracy: 0.0000e+00\n",
      "Epoch 142/200\n",
      "85/85 [==============================] - 0s 93us/step - loss: 1.9286 - accuracy: 0.0000e+00 - val_loss: 1.9047 - val_accuracy: 0.0000e+00\n",
      "Epoch 143/200\n",
      "85/85 [==============================] - 0s 82us/step - loss: 1.9274 - accuracy: 0.0000e+00 - val_loss: 1.9034 - val_accuracy: 0.0000e+00\n",
      "Epoch 144/200\n",
      "85/85 [==============================] - 0s 94us/step - loss: 1.9261 - accuracy: 0.0000e+00 - val_loss: 1.9022 - val_accuracy: 0.0000e+00\n",
      "Epoch 145/200\n",
      "85/85 [==============================] - 0s 106us/step - loss: 1.9249 - accuracy: 0.0000e+00 - val_loss: 1.9010 - val_accuracy: 0.0000e+00\n",
      "Epoch 146/200\n",
      "85/85 [==============================] - 0s 82us/step - loss: 1.9236 - accuracy: 0.0000e+00 - val_loss: 1.8998 - val_accuracy: 0.0000e+00\n",
      "Epoch 147/200\n",
      "85/85 [==============================] - 0s 95us/step - loss: 1.9224 - accuracy: 0.0000e+00 - val_loss: 1.8986 - val_accuracy: 0.0000e+00\n",
      "Epoch 148/200\n",
      "85/85 [==============================] - 0s 104us/step - loss: 1.9211 - accuracy: 0.0000e+00 - val_loss: 1.8973 - val_accuracy: 0.0000e+00\n",
      "Epoch 149/200\n",
      "85/85 [==============================] - 0s 93us/step - loss: 1.9199 - accuracy: 0.0000e+00 - val_loss: 1.8961 - val_accuracy: 0.0000e+00\n",
      "Epoch 150/200\n",
      "85/85 [==============================] - 0s 93us/step - loss: 1.9187 - accuracy: 0.0000e+00 - val_loss: 1.8949 - val_accuracy: 0.0000e+00\n",
      "Epoch 151/200\n",
      "85/85 [==============================] - 0s 94us/step - loss: 1.9175 - accuracy: 0.0000e+00 - val_loss: 1.8937 - val_accuracy: 0.0000e+00\n",
      "Epoch 152/200\n",
      "85/85 [==============================] - 0s 93us/step - loss: 1.9162 - accuracy: 0.0000e+00 - val_loss: 1.8925 - val_accuracy: 0.0000e+00\n",
      "Epoch 153/200\n",
      "85/85 [==============================] - 0s 94us/step - loss: 1.9150 - accuracy: 0.0000e+00 - val_loss: 1.8913 - val_accuracy: 0.0000e+00\n",
      "Epoch 154/200\n",
      "85/85 [==============================] - 0s 93us/step - loss: 1.9138 - accuracy: 0.0000e+00 - val_loss: 1.8901 - val_accuracy: 0.0000e+00\n",
      "Epoch 155/200\n",
      "85/85 [==============================] - 0s 82us/step - loss: 1.9126 - accuracy: 0.0000e+00 - val_loss: 1.8890 - val_accuracy: 0.0000e+00\n",
      "Epoch 156/200\n",
      "85/85 [==============================] - 0s 93us/step - loss: 1.9114 - accuracy: 0.0000e+00 - val_loss: 1.8878 - val_accuracy: 0.0000e+00\n",
      "Epoch 157/200\n",
      "85/85 [==============================] - 0s 70us/step - loss: 1.9102 - accuracy: 0.0000e+00 - val_loss: 1.8866 - val_accuracy: 0.0000e+00\n",
      "Epoch 158/200\n",
      "85/85 [==============================] - 0s 94us/step - loss: 1.9089 - accuracy: 0.0000e+00 - val_loss: 1.8854 - val_accuracy: 0.0000e+00\n",
      "Epoch 159/200\n",
      "85/85 [==============================] - 0s 82us/step - loss: 1.9078 - accuracy: 0.0000e+00 - val_loss: 1.8843 - val_accuracy: 0.0000e+00\n",
      "Epoch 160/200\n",
      "85/85 [==============================] - 0s 94us/step - loss: 1.9065 - accuracy: 0.0000e+00 - val_loss: 1.8831 - val_accuracy: 0.0000e+00\n",
      "Epoch 161/200\n",
      "85/85 [==============================] - 0s 93us/step - loss: 1.9054 - accuracy: 0.0000e+00 - val_loss: 1.8819 - val_accuracy: 0.0000e+00\n",
      "Epoch 162/200\n"
     ]
    },
    {
     "name": "stdout",
     "output_type": "stream",
     "text": [
      "85/85 [==============================] - 0s 82us/step - loss: 1.9042 - accuracy: 0.0000e+00 - val_loss: 1.8807 - val_accuracy: 0.0000e+00\n",
      "Epoch 163/200\n",
      "85/85 [==============================] - 0s 94us/step - loss: 1.9030 - accuracy: 0.0000e+00 - val_loss: 1.8796 - val_accuracy: 0.0000e+00\n",
      "Epoch 164/200\n",
      "85/85 [==============================] - 0s 82us/step - loss: 1.9018 - accuracy: 0.0000e+00 - val_loss: 1.8784 - val_accuracy: 0.0000e+00\n",
      "Epoch 165/200\n",
      "85/85 [==============================] - 0s 94us/step - loss: 1.9006 - accuracy: 0.0000e+00 - val_loss: 1.8773 - val_accuracy: 0.0000e+00\n",
      "Epoch 166/200\n",
      "85/85 [==============================] - 0s 82us/step - loss: 1.8994 - accuracy: 0.0000e+00 - val_loss: 1.8761 - val_accuracy: 0.0000e+00\n",
      "Epoch 167/200\n",
      "85/85 [==============================] - 0s 94us/step - loss: 1.8982 - accuracy: 0.0000e+00 - val_loss: 1.8750 - val_accuracy: 0.0000e+00\n",
      "Epoch 168/200\n",
      "85/85 [==============================] - 0s 82us/step - loss: 1.8971 - accuracy: 0.0000e+00 - val_loss: 1.8738 - val_accuracy: 0.0000e+00\n",
      "Epoch 169/200\n",
      "85/85 [==============================] - 0s 106us/step - loss: 1.8959 - accuracy: 0.0000e+00 - val_loss: 1.8727 - val_accuracy: 0.0000e+00\n",
      "Epoch 170/200\n",
      "85/85 [==============================] - 0s 93us/step - loss: 1.8947 - accuracy: 0.0000e+00 - val_loss: 1.8715 - val_accuracy: 0.0000e+00\n",
      "Epoch 171/200\n",
      "85/85 [==============================] - 0s 94us/step - loss: 1.8936 - accuracy: 0.0000e+00 - val_loss: 1.8704 - val_accuracy: 0.0000e+00\n",
      "Epoch 172/200\n",
      "85/85 [==============================] - 0s 93us/step - loss: 1.8924 - accuracy: 0.0000e+00 - val_loss: 1.8693 - val_accuracy: 0.0000e+00\n",
      "Epoch 173/200\n",
      "85/85 [==============================] - 0s 82us/step - loss: 1.8912 - accuracy: 0.0000e+00 - val_loss: 1.8681 - val_accuracy: 0.0000e+00\n",
      "Epoch 174/200\n",
      "85/85 [==============================] - 0s 94us/step - loss: 1.8901 - accuracy: 0.0000e+00 - val_loss: 1.8670 - val_accuracy: 0.0000e+00\n",
      "Epoch 175/200\n",
      "85/85 [==============================] - 0s 82us/step - loss: 1.8889 - accuracy: 0.0000e+00 - val_loss: 1.8659 - val_accuracy: 0.0000e+00\n",
      "Epoch 176/200\n",
      "85/85 [==============================] - 0s 93us/step - loss: 1.8878 - accuracy: 0.0000e+00 - val_loss: 1.8648 - val_accuracy: 0.0000e+00\n",
      "Epoch 177/200\n",
      "85/85 [==============================] - 0s 82us/step - loss: 1.8866 - accuracy: 0.0000e+00 - val_loss: 1.8636 - val_accuracy: 0.0000e+00\n",
      "Epoch 178/200\n",
      "85/85 [==============================] - 0s 94us/step - loss: 1.8855 - accuracy: 0.0000e+00 - val_loss: 1.8625 - val_accuracy: 0.0000e+00\n",
      "Epoch 179/200\n",
      "85/85 [==============================] - 0s 82us/step - loss: 1.8843 - accuracy: 0.0000e+00 - val_loss: 1.8614 - val_accuracy: 0.0000e+00\n",
      "Epoch 180/200\n",
      "85/85 [==============================] - 0s 106us/step - loss: 1.8832 - accuracy: 0.0000e+00 - val_loss: 1.8603 - val_accuracy: 0.0000e+00\n",
      "Epoch 181/200\n",
      "85/85 [==============================] - 0s 82us/step - loss: 1.8821 - accuracy: 0.0000e+00 - val_loss: 1.8592 - val_accuracy: 0.0000e+00\n",
      "Epoch 182/200\n",
      "85/85 [==============================] - 0s 93us/step - loss: 1.8809 - accuracy: 0.0000e+00 - val_loss: 1.8581 - val_accuracy: 0.0000e+00\n",
      "Epoch 183/200\n",
      "85/85 [==============================] - 0s 81us/step - loss: 1.8798 - accuracy: 0.0000e+00 - val_loss: 1.8570 - val_accuracy: 0.0000e+00\n",
      "Epoch 184/200\n",
      "85/85 [==============================] - 0s 106us/step - loss: 1.8787 - accuracy: 0.0000e+00 - val_loss: 1.8559 - val_accuracy: 0.0000e+00\n",
      "Epoch 185/200\n",
      "85/85 [==============================] - 0s 94us/step - loss: 1.8775 - accuracy: 0.0000e+00 - val_loss: 1.8548 - val_accuracy: 0.0000e+00\n",
      "Epoch 186/200\n",
      "85/85 [==============================] - 0s 82us/step - loss: 1.8764 - accuracy: 0.0000e+00 - val_loss: 1.8537 - val_accuracy: 0.0000e+00\n",
      "Epoch 187/200\n",
      "85/85 [==============================] - 0s 105us/step - loss: 1.8753 - accuracy: 0.0000e+00 - val_loss: 1.8526 - val_accuracy: 0.0000e+00\n",
      "Epoch 188/200\n",
      "85/85 [==============================] - 0s 82us/step - loss: 1.8742 - accuracy: 0.0000e+00 - val_loss: 1.8515 - val_accuracy: 0.0000e+00\n",
      "Epoch 189/200\n",
      "85/85 [==============================] - 0s 94us/step - loss: 1.8731 - accuracy: 0.0000e+00 - val_loss: 1.8504 - val_accuracy: 0.0000e+00\n",
      "Epoch 190/200\n",
      "85/85 [==============================] - 0s 93us/step - loss: 1.8719 - accuracy: 0.0000e+00 - val_loss: 1.8493 - val_accuracy: 0.0000e+00\n",
      "Epoch 191/200\n",
      "85/85 [==============================] - 0s 93us/step - loss: 1.8708 - accuracy: 0.0000e+00 - val_loss: 1.8482 - val_accuracy: 0.0000e+00\n",
      "Epoch 192/200\n",
      "85/85 [==============================] - 0s 82us/step - loss: 1.8697 - accuracy: 0.0000e+00 - val_loss: 1.8471 - val_accuracy: 0.0000e+00\n",
      "Epoch 193/200\n",
      "85/85 [==============================] - 0s 94us/step - loss: 1.8686 - accuracy: 0.0000e+00 - val_loss: 1.8460 - val_accuracy: 0.0000e+00\n",
      "Epoch 194/200\n",
      "85/85 [==============================] - 0s 82us/step - loss: 1.8675 - accuracy: 0.0000e+00 - val_loss: 1.8449 - val_accuracy: 0.0000e+00\n",
      "Epoch 195/200\n",
      "85/85 [==============================] - 0s 83us/step - loss: 1.8664 - accuracy: 0.0000e+00 - val_loss: 1.8438 - val_accuracy: 0.0000e+00\n",
      "Epoch 196/200\n",
      "85/85 [==============================] - 0s 105us/step - loss: 1.8653 - accuracy: 0.0000e+00 - val_loss: 1.8428 - val_accuracy: 0.0000e+00\n",
      "Epoch 197/200\n",
      "85/85 [==============================] - 0s 82us/step - loss: 1.8642 - accuracy: 0.0000e+00 - val_loss: 1.8417 - val_accuracy: 0.0000e+00\n",
      "Epoch 198/200\n",
      "85/85 [==============================] - 0s 105us/step - loss: 1.8631 - accuracy: 0.0000e+00 - val_loss: 1.8406 - val_accuracy: 0.0000e+00\n",
      "Epoch 199/200\n",
      "85/85 [==============================] - 0s 82us/step - loss: 1.8620 - accuracy: 0.0000e+00 - val_loss: 1.8395 - val_accuracy: 0.0000e+00\n",
      "Epoch 200/200\n",
      "85/85 [==============================] - 0s 94us/step - loss: 1.8609 - accuracy: 0.0000e+00 - val_loss: 1.8384 - val_accuracy: 0.0000e+00\n"
     ]
    }
   ],
   "source": [
    "history=model.fit(x_train,y_train,epochs=200,validation_data=(x_test,y_test))"
   ]
  },
  {
   "cell_type": "code",
   "execution_count": 117,
   "metadata": {},
   "outputs": [
    {
     "data": {
      "text/plain": [
       "[<matplotlib.lines.Line2D at 0x2386092b080>]"
      ]
     },
     "execution_count": 117,
     "metadata": {},
     "output_type": "execute_result"
    },
    {
     "data": {
      "image/png": "[encoded data removed]",
      "text/plain": [
       "<Figure size 432x288 with 1 Axes>"
      ]
     },
     "metadata": {
      "needs_background": "light"
     },
     "output_type": "display_data"
    }
   ],
   "source": [
    "plt.plot(history.history['loss'])"
   ]
  },
  {
   "cell_type": "code",
   "execution_count": null,
   "metadata": {},
   "outputs": [],
   "source": []
  }
 ],
 "metadata": {
  "kernelspec": {
   "display_name": "Python 3",
   "language": "python",
   "name": "python3"
  },
  "language_info": {
   "codemirror_mode": {
    "name": "ipython",
    "version": 3
   },
   "file_extension": ".py",
   "mimetype": "text/x-python",
   "name": "python",
   "nbconvert_exporter": "python",
   "pygments_lexer": "ipython3",
   "version": "3.6.7"
  }
 },
 "nbformat": 4,
 "nbformat_minor": 2
}
